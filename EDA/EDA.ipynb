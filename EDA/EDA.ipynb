{
 "cells": [
  {
   "cell_type": "code",
   "execution_count": 8,
   "metadata": {
    "ExecuteTime": {
     "end_time": "2021-03-07T11:33:47.574638Z",
     "start_time": "2021-03-07T11:32:13.480553Z"
    }
   },
   "outputs": [
    {
     "name": "stdout",
     "output_type": "stream",
     "text": [
      "Collecting language-check\n",
      "  Downloading https://files.pythonhosted.org/packages/97/45/0fd1d3683d6129f30fa09143fa383cdf6dff8bc0d1648f2cf156109cb772/language-check-1.1.tar.gz\n",
      "Building wheels for collected packages: language-check\n",
      "  Building wheel for language-check (setup.py): started\n",
      "  Building wheel for language-check (setup.py): finished with status 'done'\n",
      "  Created wheel for language-check: filename=language_check-1.1-cp37-none-any.whl size=56968214 sha256=8ea831d5fa35004f2bea28ce0134c1832e4cd82f4f13442c090b20c3e2f3d510\n",
      "  Stored in directory: C:\\Users\\harsh\\AppData\\Local\\pip\\Cache\\wheels\\d5\\46\\82\\90a89c23eac1837364ed7217a9eed71bc9e6ad4825be93968e\n",
      "Successfully built language-check\n",
      "Installing collected packages: language-check\n",
      "Successfully installed language-check-1.1\n"
     ]
    }
   ],
   "source": [
    "!pip install --upgrade language-check"
   ]
  },
  {
   "cell_type": "code",
   "execution_count": 37,
   "metadata": {
    "ExecuteTime": {
     "end_time": "2021-03-09T17:56:29.526974Z",
     "start_time": "2021-03-09T17:56:29.507800Z"
    }
   },
   "outputs": [],
   "source": [
    "import numpy as np\n",
    "import seaborn as sns\n",
    "import pandas as pd \n",
    "import matplotlib.pyplot as plt\n",
    "from sklearn.feature_extraction.text import CountVectorizer,_preprocess,TfidfVectorizer\n",
    "from sklearn.metrics.pairwise import linear_kernel,cosine_similarity\n",
    "from nltk.stem.snowball import SnowballStemmer\n",
    "from sklearn.ensemble import RandomForestClassifier\n",
    "from sklearn.ensemble import *\n",
    "from sklearn.model_selection import train_test_split"
   ]
  },
  {
   "cell_type": "code",
   "execution_count": 38,
   "metadata": {
    "ExecuteTime": {
     "end_time": "2021-03-09T17:56:30.213356Z",
     "start_time": "2021-03-09T17:56:30.181987Z"
    }
   },
   "outputs": [],
   "source": [
    "data = pd.read_csv(r'data/medical_data.csv',low_memory=False)"
   ]
  },
  {
   "cell_type": "code",
   "execution_count": 39,
   "metadata": {
    "ExecuteTime": {
     "end_time": "2021-03-09T17:56:30.746507Z",
     "start_time": "2021-03-09T17:56:30.731964Z"
    }
   },
   "outputs": [],
   "source": [
    "data = data.drop_duplicates().reset_index().drop('index',axis = 1)"
   ]
  },
  {
   "cell_type": "code",
   "execution_count": 40,
   "metadata": {
    "ExecuteTime": {
     "end_time": "2021-03-09T17:56:31.195656Z",
     "start_time": "2021-03-09T17:56:31.180565Z"
    }
   },
   "outputs": [
    {
     "data": {
      "text/html": [
       "<div>\n",
       "<style scoped>\n",
       "    .dataframe tbody tr th:only-of-type {\n",
       "        vertical-align: middle;\n",
       "    }\n",
       "\n",
       "    .dataframe tbody tr th {\n",
       "        vertical-align: top;\n",
       "    }\n",
       "\n",
       "    .dataframe thead th {\n",
       "        text-align: right;\n",
       "    }\n",
       "</style>\n",
       "<table border=\"1\" class=\"dataframe\">\n",
       "  <thead>\n",
       "    <tr style=\"text-align: right;\">\n",
       "      <th></th>\n",
       "      <th>Phrase</th>\n",
       "      <th>Prompt</th>\n",
       "    </tr>\n",
       "  </thead>\n",
       "  <tbody>\n",
       "    <tr>\n",
       "      <td>0</td>\n",
       "      <td>When I remember her I feel down</td>\n",
       "      <td>Emotional pain</td>\n",
       "    </tr>\n",
       "    <tr>\n",
       "      <td>1</td>\n",
       "      <td>there is too much pain when i move my arm</td>\n",
       "      <td>Heart hurts</td>\n",
       "    </tr>\n",
       "    <tr>\n",
       "      <td>2</td>\n",
       "      <td>My son had his lip pierced and it is swollen a...</td>\n",
       "      <td>Infected wound</td>\n",
       "    </tr>\n",
       "    <tr>\n",
       "      <td>3</td>\n",
       "      <td>My muscles in my lower back are aching</td>\n",
       "      <td>Infected wound</td>\n",
       "    </tr>\n",
       "    <tr>\n",
       "      <td>4</td>\n",
       "      <td>i have muscle pain that my back\\nI Have Muscle...</td>\n",
       "      <td>Foot ache</td>\n",
       "    </tr>\n",
       "    <tr>\n",
       "      <td>...</td>\n",
       "      <td>...</td>\n",
       "      <td>...</td>\n",
       "    </tr>\n",
       "    <tr>\n",
       "      <td>735</td>\n",
       "      <td>There is a feeling of emptiness creeping up to...</td>\n",
       "      <td>emotional pain</td>\n",
       "    </tr>\n",
       "    <tr>\n",
       "      <td>736</td>\n",
       "      <td>This weird pain under my chest has been growin...</td>\n",
       "      <td>internal pain</td>\n",
       "    </tr>\n",
       "    <tr>\n",
       "      <td>737</td>\n",
       "      <td>It is very hard to concentrate since the last ...</td>\n",
       "      <td>emotional pain</td>\n",
       "    </tr>\n",
       "    <tr>\n",
       "      <td>738</td>\n",
       "      <td>Walking to work seems difficult now and there ...</td>\n",
       "      <td>body feels weak</td>\n",
       "    </tr>\n",
       "    <tr>\n",
       "      <td>739</td>\n",
       "      <td>My head aches badly when I try to look at my l...</td>\n",
       "      <td>head ache</td>\n",
       "    </tr>\n",
       "  </tbody>\n",
       "</table>\n",
       "<p>740 rows × 2 columns</p>\n",
       "</div>"
      ],
      "text/plain": [
       "                                                Phrase           Prompt\n",
       "0                      When I remember her I feel down   Emotional pain\n",
       "1            there is too much pain when i move my arm      Heart hurts\n",
       "2    My son had his lip pierced and it is swollen a...   Infected wound\n",
       "3               My muscles in my lower back are aching   Infected wound\n",
       "4    i have muscle pain that my back\\nI Have Muscle...        Foot ache\n",
       "..                                                 ...              ...\n",
       "735  There is a feeling of emptiness creeping up to...   emotional pain\n",
       "736  This weird pain under my chest has been growin...    internal pain\n",
       "737  It is very hard to concentrate since the last ...   emotional pain\n",
       "738  Walking to work seems difficult now and there ...  body feels weak\n",
       "739  My head aches badly when I try to look at my l...        head ache\n",
       "\n",
       "[740 rows x 2 columns]"
      ]
     },
     "execution_count": 40,
     "metadata": {},
     "output_type": "execute_result"
    }
   ],
   "source": [
    "data"
   ]
  },
  {
   "cell_type": "code",
   "execution_count": 41,
   "metadata": {
    "ExecuteTime": {
     "end_time": "2021-03-09T17:56:35.151061Z",
     "start_time": "2021-03-09T17:56:35.145741Z"
    }
   },
   "outputs": [],
   "source": [
    "punctuation='[\"\\'?,\\.]' # I will replace all these punctuation with ''\n",
    "abbr_dict={\n",
    "    \"what's\":\"what is\",\n",
    "    \"what're\":\"what are\",\n",
    "    \"where's\":\"where is\",\n",
    "    \"where're\":\"where are\",\n",
    "    \"i'm\":\"i am\",\n",
    "    \"we're\":\"we are\",\n",
    "    \"it's\":\"it is\",\n",
    "    \"that's\":\"that is\",\n",
    "    \"there's\":\"there is\",\n",
    "    \"there're\":\"there are\",\n",
    "    \"i've\":\"i have\",\n",
    "    \"who've\":\"who have\",\n",
    "    \"would've\":\"would have\",\n",
    "    \"not've\":\"not have\",\n",
    "    \"i'll\":\"i will\",\n",
    "    \"it'll\":\"it will\",\n",
    "    \"isn't\":\"is not\",\n",
    "    \"wasn't\":\"was not\",\n",
    "    \"aren't\":\"are not\",\n",
    "    \"weren't\":\"were not\",\n",
    "    \"can't\":\"can not\",\n",
    "    \"couldn't\":\"could not\",\n",
    "    \"don't\":\"do not\",\n",
    "    \"didn't\":\"did not\",\n",
    "    \"shouldn't\":\"should not\",\n",
    "    \"wouldn't\":\"would not\",\n",
    "    \"doesn't\":\"does not\",\n",
    "    \"haven't\":\"have not\",\n",
    "    \"hasn't\":\"has not\",\n",
    "    \"hadn't\":\"had not\",\n",
    "    \"won't\":\"will not\",\n",
    "    punctuation:'',\n",
    "    '\\s+':' ', # replace multi space with one single space\n",
    "}"
   ]
  },
  {
   "cell_type": "code",
   "execution_count": 42,
   "metadata": {
    "ExecuteTime": {
     "end_time": "2021-03-09T17:56:35.565648Z",
     "start_time": "2021-03-09T17:56:35.556686Z"
    }
   },
   "outputs": [],
   "source": [
    "def process_data(data):\n",
    "    # Convert to lower case\n",
    "    \n",
    "    data.Phrase=data.Phrase.str.lower() \n",
    "    data.Prompt=data.Prompt.str.lower()\n",
    "    # convert to string \n",
    "    data.Phrase=data.Phrase.astype(str)\n",
    "    data.Prompt=data.Prompt.astype(str)\n",
    "    # replace abbreviations \n",
    "    data.replace(abbr_dict,regex=True,inplace=True)\n",
    "    \n",
    "    #apply stemming\n",
    "    stemmer = SnowballStemmer(\"english\")\n",
    "    data['stemmed_phrase'] = data['Phrase'].apply(lambda x : ' '.join([stemmer.stem(y) for y in x.split()]))\n",
    "    display(data.head(10))\n",
    "    return data"
   ]
  },
  {
   "cell_type": "code",
   "execution_count": 43,
   "metadata": {
    "ExecuteTime": {
     "end_time": "2021-03-09T17:56:37.317083Z",
     "start_time": "2021-03-09T17:56:37.018913Z"
    }
   },
   "outputs": [
    {
     "data": {
      "text/html": [
       "<div>\n",
       "<style scoped>\n",
       "    .dataframe tbody tr th:only-of-type {\n",
       "        vertical-align: middle;\n",
       "    }\n",
       "\n",
       "    .dataframe tbody tr th {\n",
       "        vertical-align: top;\n",
       "    }\n",
       "\n",
       "    .dataframe thead th {\n",
       "        text-align: right;\n",
       "    }\n",
       "</style>\n",
       "<table border=\"1\" class=\"dataframe\">\n",
       "  <thead>\n",
       "    <tr style=\"text-align: right;\">\n",
       "      <th></th>\n",
       "      <th>Phrase</th>\n",
       "      <th>Prompt</th>\n",
       "      <th>stemmed_phrase</th>\n",
       "    </tr>\n",
       "  </thead>\n",
       "  <tbody>\n",
       "    <tr>\n",
       "      <td>0</td>\n",
       "      <td>when i remember her i feel down</td>\n",
       "      <td>emotional pain</td>\n",
       "      <td>when i rememb her i feel down</td>\n",
       "    </tr>\n",
       "    <tr>\n",
       "      <td>1</td>\n",
       "      <td>there is too much pain when i move my arm</td>\n",
       "      <td>heart hurts</td>\n",
       "      <td>there is too much pain when i move my arm</td>\n",
       "    </tr>\n",
       "    <tr>\n",
       "      <td>2</td>\n",
       "      <td>my son had his lip pierced and it is swollen a...</td>\n",
       "      <td>infected wound</td>\n",
       "      <td>my son had his lip pierc and it is swollen and...</td>\n",
       "    </tr>\n",
       "    <tr>\n",
       "      <td>3</td>\n",
       "      <td>my muscles in my lower back are aching</td>\n",
       "      <td>infected wound</td>\n",
       "      <td>my muscl in my lower back are ach</td>\n",
       "    </tr>\n",
       "    <tr>\n",
       "      <td>4</td>\n",
       "      <td>i have muscle pain that my back i have muscle ...</td>\n",
       "      <td>foot ache</td>\n",
       "      <td>i have muscl pain that my back i have muscl pa...</td>\n",
       "    </tr>\n",
       "    <tr>\n",
       "      <td>5</td>\n",
       "      <td>i have muscle pain in my left leg</td>\n",
       "      <td>shoulder pain</td>\n",
       "      <td>i have muscl pain in my left leg</td>\n",
       "    </tr>\n",
       "    <tr>\n",
       "      <td>6</td>\n",
       "      <td>i have cut my finger because of playing footba...</td>\n",
       "      <td>injury from sports</td>\n",
       "      <td>i have cut my finger becaus of play footbal an...</td>\n",
       "    </tr>\n",
       "    <tr>\n",
       "      <td>7</td>\n",
       "      <td>i have acne in my face and other problems in m...</td>\n",
       "      <td>skin issue</td>\n",
       "      <td>i have acn in my face and other problem in my ...</td>\n",
       "    </tr>\n",
       "    <tr>\n",
       "      <td>8</td>\n",
       "      <td>i have a strange rash on my arm</td>\n",
       "      <td>foot ache</td>\n",
       "      <td>i have a strang rash on my arm</td>\n",
       "    </tr>\n",
       "    <tr>\n",
       "      <td>9</td>\n",
       "      <td>i have a sharp pain in my lower stomach</td>\n",
       "      <td>stomach ache</td>\n",
       "      <td>i have a sharp pain in my lower stomach</td>\n",
       "    </tr>\n",
       "  </tbody>\n",
       "</table>\n",
       "</div>"
      ],
      "text/plain": [
       "                                              Phrase              Prompt  \\\n",
       "0                    when i remember her i feel down      emotional pain   \n",
       "1          there is too much pain when i move my arm         heart hurts   \n",
       "2  my son had his lip pierced and it is swollen a...      infected wound   \n",
       "3             my muscles in my lower back are aching      infected wound   \n",
       "4  i have muscle pain that my back i have muscle ...           foot ache   \n",
       "5                  i have muscle pain in my left leg       shoulder pain   \n",
       "6  i have cut my finger because of playing footba...  injury from sports   \n",
       "7  i have acne in my face and other problems in m...          skin issue   \n",
       "8                    i have a strange rash on my arm           foot ache   \n",
       "9            i have a sharp pain in my lower stomach        stomach ache   \n",
       "\n",
       "                                      stemmed_phrase  \n",
       "0                      when i rememb her i feel down  \n",
       "1          there is too much pain when i move my arm  \n",
       "2  my son had his lip pierc and it is swollen and...  \n",
       "3                  my muscl in my lower back are ach  \n",
       "4  i have muscl pain that my back i have muscl pa...  \n",
       "5                   i have muscl pain in my left leg  \n",
       "6  i have cut my finger becaus of play footbal an...  \n",
       "7  i have acn in my face and other problem in my ...  \n",
       "8                     i have a strang rash on my arm  \n",
       "9            i have a sharp pain in my lower stomach  "
      ]
     },
     "metadata": {},
     "output_type": "display_data"
    }
   ],
   "source": [
    "data = process_data(data)"
   ]
  },
  {
   "cell_type": "code",
   "execution_count": 44,
   "metadata": {
    "ExecuteTime": {
     "end_time": "2021-03-09T17:57:16.009240Z",
     "start_time": "2021-03-09T17:57:15.993909Z"
    }
   },
   "outputs": [],
   "source": [
    "d2 = data[['stemmed_phrase','Prompt']]"
   ]
  },
  {
   "cell_type": "code",
   "execution_count": 46,
   "metadata": {
    "ExecuteTime": {
     "end_time": "2021-03-09T17:58:39.806974Z",
     "start_time": "2021-03-09T17:58:39.677056Z"
    }
   },
   "outputs": [],
   "source": [
    "d2.to_csv('data/trial_data.csv')"
   ]
  },
  {
   "cell_type": "code",
   "execution_count": 8,
   "metadata": {
    "ExecuteTime": {
     "end_time": "2021-03-09T09:25:46.257590Z",
     "start_time": "2021-03-09T09:25:46.252604Z"
    }
   },
   "outputs": [],
   "source": [
    "ailments = data['Prompt'].unique()"
   ]
  },
  {
   "cell_type": "code",
   "execution_count": 9,
   "metadata": {
    "ExecuteTime": {
     "end_time": "2021-03-09T09:25:46.452785Z",
     "start_time": "2021-03-09T09:25:46.412926Z"
    }
   },
   "outputs": [],
   "source": [
    "dict_ail = {}\n",
    "# for a in ailments:\n",
    "#     dict_ail[a] = 0\n",
    "for k in data.index:\n",
    "    name = data['Prompt'][k]\n",
    "    dict_ail[name] = dict_ail.get(name,0) + 1\n",
    "ailment_dict = {}\n",
    "\n",
    "for i,k in enumerate(dict_ail.keys()):\n",
    "    ailment_dict[i] = k"
   ]
  },
  {
   "cell_type": "code",
   "execution_count": 10,
   "metadata": {
    "ExecuteTime": {
     "end_time": "2021-03-09T09:25:48.869581Z",
     "start_time": "2021-03-09T09:25:47.700682Z"
    },
    "scrolled": true
   },
   "outputs": [
    {
     "data": {
      "image/png": "[encoded data removed]",
      "text/plain": [
       "<Figure size 1296x576 with 1 Axes>"
      ]
     },
     "metadata": {
      "needs_background": "light"
     },
     "output_type": "display_data"
    }
   ],
   "source": [
    "plt.figure(figsize = (18,8))\n",
    "plt.title(\"Ailment Frequencies\",fontsize=35)\n",
    "plt.barh(color = 'Red',y=[i for i in range(len(list(ailments)))], width = list(dict_ail.values()),tick_label = list(dict_ail.keys()))\n",
    "plt.tight_layout()"
   ]
  },
  {
   "cell_type": "code",
   "execution_count": 11,
   "metadata": {
    "ExecuteTime": {
     "end_time": "2021-03-09T09:25:51.735718Z",
     "start_time": "2021-03-09T09:25:51.492550Z"
    }
   },
   "outputs": [],
   "source": [
    "Cv = CountVectorizer(stop_words='english',ngram_range = (1,3), max_df=0.7)\n",
    "transformed_count = Cv.fit_transform(data['stemmed_phrase']) "
   ]
  },
  {
   "cell_type": "code",
   "execution_count": 12,
   "metadata": {
    "ExecuteTime": {
     "end_time": "2021-03-09T09:25:51.957550Z",
     "start_time": "2021-03-09T09:25:51.778557Z"
    }
   },
   "outputs": [],
   "source": [
    "TfIdf = TfidfVectorizer(stop_words = 'english', ngram_range= (1,3),max_df= 0.7)\n",
    "transformed_idf = TfIdf.fit_transform(data['stemmed_phrase'])"
   ]
  },
  {
   "cell_type": "code",
   "execution_count": 33,
   "metadata": {
    "ExecuteTime": {
     "end_time": "2021-03-08T10:08:22.829211Z",
     "start_time": "2021-03-08T10:08:22.821607Z"
    }
   },
   "outputs": [],
   "source": [
    "input_text = ['I am experiencing pain in the leg from the past two days']\n",
    "trial = TfIdf.transform(input_text)"
   ]
  },
  {
   "cell_type": "code",
   "execution_count": 14,
   "metadata": {
    "ExecuteTime": {
     "end_time": "2021-03-08T10:04:52.594140Z",
     "start_time": "2021-03-08T10:04:52.580504Z"
    }
   },
   "outputs": [
    {
     "data": {
      "text/plain": [
       "<1x4970 sparse matrix of type '<class 'numpy.float64'>'\n",
       "\twith 4 stored elements in Compressed Sparse Row format>"
      ]
     },
     "execution_count": 14,
     "metadata": {},
     "output_type": "execute_result"
    }
   ],
   "source": [
    "trial"
   ]
  },
  {
   "cell_type": "markdown",
   "metadata": {},
   "source": [
    "## Flow \n",
    "- Get the text input from the patient\n",
    "- This text input is processed first by the vectorizer and made into a list of frequeny counts using the learned vocabulary from the data provided\n",
    "- Now this list is passed into a model which generates the probabilities of which ailment does that sentence phrase correspond to \n",
    "- The final returned phrases are evaluated and the phrases having the least levenshtein distance are used for predictions\n",
    "- The two of the highest probability ailments are returned to the doctor with a wrapper sentence"
   ]
  },
  {
   "cell_type": "markdown",
   "metadata": {},
   "source": [
    "## Output Tensor\n",
    "- We have a 25 element output vector which is the result from the model"
   ]
  },
  {
   "cell_type": "code",
   "execution_count": 21,
   "metadata": {
    "ExecuteTime": {
     "end_time": "2021-03-08T06:37:13.142600Z",
     "start_time": "2021-03-08T06:37:13.138611Z"
    }
   },
   "outputs": [
    {
     "data": {
      "text/plain": [
       "{0: 'emotional pain',\n",
       " 1: 'heart hurts',\n",
       " 2: 'infected wound',\n",
       " 3: 'foot ache',\n",
       " 4: 'shoulder pain',\n",
       " 5: 'injury from sports',\n",
       " 6: 'skin issue',\n",
       " 7: 'stomach ache',\n",
       " 8: 'knee pain',\n",
       " 9: 'joint pain',\n",
       " 10: 'hard to breath',\n",
       " 11: 'head ache',\n",
       " 12: 'body feels weak',\n",
       " 13: 'feeling dizzy',\n",
       " 14: 'back pain',\n",
       " 15: 'open wound',\n",
       " 16: 'internal pain',\n",
       " 17: 'blurry vision',\n",
       " 18: 'acne',\n",
       " 19: 'muscle pain',\n",
       " 20: 'hair falling out',\n",
       " 21: 'neck pain',\n",
       " 22: 'cough',\n",
       " 23: 'ear ache',\n",
       " 24: 'feeling cold',\n",
       " 25: 'sunburn',\n",
       " 26: 'fever',\n",
       " 27: 'cold and cough'}"
      ]
     },
     "execution_count": 21,
     "metadata": {},
     "output_type": "execute_result"
    }
   ],
   "source": [
    "ailment_dict"
   ]
  },
  {
   "cell_type": "markdown",
   "metadata": {},
   "source": [
    "## Input Tensor"
   ]
  },
  {
   "cell_type": "code",
   "execution_count": 3,
   "metadata": {
    "ExecuteTime": {
     "end_time": "2021-03-09T17:19:56.594355Z",
     "start_time": "2021-03-09T17:19:56.587579Z"
    }
   },
   "outputs": [],
   "source": [
    "# the query is first processed and made into lower case \n",
    "query = \"From past few weeks feeling sad\""
   ]
  },
  {
   "cell_type": "code",
   "execution_count": 4,
   "metadata": {
    "ExecuteTime": {
     "end_time": "2021-03-09T17:19:56.925186Z",
     "start_time": "2021-03-09T17:19:56.914421Z"
    }
   },
   "outputs": [],
   "source": [
    "def process_query(query):\n",
    "    # Change to lower\n",
    "    query = query.lower()\n",
    "    # Removed abbreviations\n",
    "    res = ''\n",
    "#     print(query.split())\n",
    "    for k in query.split():\n",
    "        if k in abbr_dict:\n",
    "            print(abbr_dict[k])\n",
    "            res+=' ' + abbr_dict[k]\n",
    "        else:\n",
    "            res+=' ' + k \n",
    "    \n",
    "    stemmer = SnowballStemmer('english')\n",
    "    res = ' '.join([stemmer.stem(y) for y in res.split()])\n",
    "    return res "
   ]
  },
  {
   "cell_type": "code",
   "execution_count": 5,
   "metadata": {
    "ExecuteTime": {
     "end_time": "2021-03-09T17:19:57.170821Z",
     "start_time": "2021-03-09T17:19:57.150159Z"
    }
   },
   "outputs": [
    {
     "name": "stdout",
     "output_type": "stream",
     "text": [
      "Example query: \n"
     ]
    },
    {
     "ename": "NameError",
     "evalue": "name 'abbr_dict' is not defined",
     "output_type": "error",
     "traceback": [
      "\u001b[1;31m---------------------------------------------------------------------------\u001b[0m",
      "\u001b[1;31mNameError\u001b[0m                                 Traceback (most recent call last)",
      "\u001b[1;32m<ipython-input-5-1231c07b1530>\u001b[0m in \u001b[0;36m<module>\u001b[1;34m\u001b[0m\n\u001b[0;32m      1\u001b[0m \u001b[0mprint\u001b[0m\u001b[1;33m(\u001b[0m\u001b[1;34m\"Example query: \"\u001b[0m\u001b[1;33m)\u001b[0m\u001b[1;33m\u001b[0m\u001b[1;33m\u001b[0m\u001b[0m\n\u001b[1;32m----> 2\u001b[1;33m \u001b[0mprint\u001b[0m\u001b[1;33m(\u001b[0m\u001b[1;34m\"Final query:\"\u001b[0m\u001b[1;33m,\u001b[0m\u001b[0mprocess_query\u001b[0m\u001b[1;33m(\u001b[0m\u001b[0mquery\u001b[0m\u001b[1;33m)\u001b[0m\u001b[1;33m)\u001b[0m\u001b[1;33m\u001b[0m\u001b[1;33m\u001b[0m\u001b[0m\n\u001b[0m\u001b[0;32m      3\u001b[0m \u001b[0mprocessed\u001b[0m \u001b[1;33m=\u001b[0m \u001b[0mprocess_query\u001b[0m\u001b[1;33m(\u001b[0m\u001b[0mquery\u001b[0m\u001b[1;33m)\u001b[0m\u001b[1;33m\u001b[0m\u001b[1;33m\u001b[0m\u001b[0m\n",
      "\u001b[1;32m<ipython-input-4-78b07f05a8c0>\u001b[0m in \u001b[0;36mprocess_query\u001b[1;34m(query)\u001b[0m\n\u001b[0;32m      6\u001b[0m \u001b[1;31m#     print(query.split())\u001b[0m\u001b[1;33m\u001b[0m\u001b[1;33m\u001b[0m\u001b[1;33m\u001b[0m\u001b[0m\n\u001b[0;32m      7\u001b[0m     \u001b[1;32mfor\u001b[0m \u001b[0mk\u001b[0m \u001b[1;32min\u001b[0m \u001b[0mquery\u001b[0m\u001b[1;33m.\u001b[0m\u001b[0msplit\u001b[0m\u001b[1;33m(\u001b[0m\u001b[1;33m)\u001b[0m\u001b[1;33m:\u001b[0m\u001b[1;33m\u001b[0m\u001b[1;33m\u001b[0m\u001b[0m\n\u001b[1;32m----> 8\u001b[1;33m         \u001b[1;32mif\u001b[0m \u001b[0mk\u001b[0m \u001b[1;32min\u001b[0m \u001b[0mabbr_dict\u001b[0m\u001b[1;33m:\u001b[0m\u001b[1;33m\u001b[0m\u001b[1;33m\u001b[0m\u001b[0m\n\u001b[0m\u001b[0;32m      9\u001b[0m             \u001b[0mprint\u001b[0m\u001b[1;33m(\u001b[0m\u001b[0mabbr_dict\u001b[0m\u001b[1;33m[\u001b[0m\u001b[0mk\u001b[0m\u001b[1;33m]\u001b[0m\u001b[1;33m)\u001b[0m\u001b[1;33m\u001b[0m\u001b[1;33m\u001b[0m\u001b[0m\n\u001b[0;32m     10\u001b[0m             \u001b[0mres\u001b[0m\u001b[1;33m+=\u001b[0m\u001b[1;34m' '\u001b[0m \u001b[1;33m+\u001b[0m \u001b[0mabbr_dict\u001b[0m\u001b[1;33m[\u001b[0m\u001b[0mk\u001b[0m\u001b[1;33m]\u001b[0m\u001b[1;33m\u001b[0m\u001b[1;33m\u001b[0m\u001b[0m\n",
      "\u001b[1;31mNameError\u001b[0m: name 'abbr_dict' is not defined"
     ]
    }
   ],
   "source": [
    "print(\"Example query: \")\n",
    "print(\"Final query:\",process_query(query))\n",
    "processed = process_query(query)"
   ]
  },
  {
   "cell_type": "code",
   "execution_count": 25,
   "metadata": {
    "ExecuteTime": {
     "end_time": "2021-03-08T06:37:26.153165Z",
     "start_time": "2021-03-08T06:37:26.143188Z"
    }
   },
   "outputs": [],
   "source": [
    "query =[processed]\n",
    "res = TfIdf.transform(query)\n",
    "sim = cosine_similarity(res,transformed_idf)\n",
    "res = list(np.argsort(sim))[0]\n",
    "res = res[::-1][:3]"
   ]
  },
  {
   "cell_type": "code",
   "execution_count": 26,
   "metadata": {
    "ExecuteTime": {
     "end_time": "2021-03-08T06:37:26.816457Z",
     "start_time": "2021-03-08T06:37:26.800800Z"
    }
   },
   "outputs": [
    {
     "name": "stdout",
     "output_type": "stream",
     "text": [
      "emotional pain\n",
      "emotional pain\n",
      "skin issue\n"
     ]
    }
   ],
   "source": [
    "for k in res:\n",
    "    print(data.loc[k]['Prompt'])"
   ]
  },
  {
   "cell_type": "code",
   "execution_count": 142,
   "metadata": {
    "ExecuteTime": {
     "end_time": "2021-03-08T08:58:35.978192Z",
     "start_time": "2021-03-08T08:58:35.965230Z"
    }
   },
   "outputs": [],
   "source": [
    "def get_prediction(query):\n",
    "    print(\"Query is :\",query)\n",
    "    processed = process_query(query)\n",
    "    query = [processed]\n",
    "    print(\"Processed :\",query)\n",
    "    res = TfIdf.transform(query)\n",
    "    sim = cosine_similarity(res,transformed_idf)   \n",
    "    res = list(np.argsort(sim))[0]\n",
    "    res = res[::-1][:20]\n",
    "    print(sim[0][res[0]],sim[0][res[1]])\n",
    "    ailment =[]\n",
    "    # let's find most similar sentences and then see \n",
    "    # use levenshtein distance after you have got the result\n",
    "    for k in res[:1]:\n",
    "        ailment.append(data.loc[k]['Prompt'])\n",
    "    print(\"Results :\")\n",
    "    return ailment"
   ]
  },
  {
   "cell_type": "markdown",
   "metadata": {},
   "source": [
    "## To - Do\n",
    "- Use document distance after you find the sentences to evaluate the best possible match for your query\n"
   ]
  },
  {
   "cell_type": "code",
   "execution_count": 143,
   "metadata": {
    "ExecuteTime": {
     "end_time": "2021-03-08T08:58:39.453187Z",
     "start_time": "2021-03-08T08:58:37.999303Z"
    }
   },
   "outputs": [
    {
     "name": "stdout",
     "output_type": "stream",
     "text": [
      "Query is : my stomach feel full and upset and bloat after big meal\n",
      "Processed : ['my stomach feel full and upset and bloat after big meal']\n",
      "1.0000000000000002 0.15631720706831426\n",
      "Results :\n",
      "['stomach ache']\n",
      "Query is : my mind feel veri sad as if it hurt the way i feel in my head is aw and when i think about my break-up i cri with sad\n",
      "Processed : ['my mind feel veri sad as if it hurt the way i feel in my head is aw and when i think about my break-up i cri with sad']\n",
      "1.0000000000000002 0.30769684560534594\n",
      "Results :\n",
      "['emotional pain']\n",
      "Query is : i have a head pain everi singl day\n",
      "Processed : ['i have a head pain everi singl day']\n",
      "1.0000000000000002 0.19773183226222532\n",
      "Results :\n",
      "['internal pain']\n",
      "Query is : my heart feel like it is go to explod\n",
      "Processed : ['my heart feel like it is go to explod']\n",
      "1.0000000000000002 0.26650915481854837\n",
      "Results :\n",
      "['heart hurts']\n",
      "Query is : my shoulder hurt when i tri to reach someth abov my head\n",
      "Processed : ['my shoulder hurt when i tri to reach someth abov my head']\n",
      "1.0000000000000002 0.39548057406249476\n",
      "Results :\n",
      "['shoulder pain']\n",
      "Query is : i was veri activ in sport but now my bodi is feel pain\n",
      "Processed : ['i was veri activ in sport but now my bodi is feel pain']\n",
      "0.9999999999999999 0.23083321803761236\n",
      "Results :\n",
      "['injury from sports']\n",
      "Query is : i have been over my cold for week but still cough everi day\n",
      "Processed : ['i have been over my cold for week but still cough everi day']\n",
      "1.0 0.2681671464999516\n",
      "Results :\n",
      "['cough']\n",
      "Query is : i can not hear out of my ear proper i feel like there is someth in it caus irrit\n",
      "Processed : ['i can not hear out of my ear proper i feel like there is someth in it caus irrit']\n",
      "1.0 0.22733833278222518\n",
      "Results :\n",
      "['ear ache']\n",
      "Query is : i have pain in my chest that sadden me\n",
      "Processed : ['i have pain in my chest that sadden me']\n",
      "1.0 0.2198364404123055\n",
      "Results :\n",
      "['heart hurts']\n",
      "Query is : my ear ach when i am listen to music\n",
      "Processed : ['my ear ach when i am listen to music']\n",
      "1.0 0.2598593449902132\n",
      "Results :\n",
      "['ear ache']\n",
      "Query is : i am feel nauseous\n",
      "Processed : ['i am feel nauseous']\n",
      "1.0000000000000002 0.09676803123760319\n",
      "Results :\n",
      "['stomach ache']\n",
      "Query is : my stomach ach when i eat hot food whi\n",
      "Processed : ['my stomach ach when i eat hot food whi']\n",
      "1.0000000000000002 0.32846977539494737\n",
      "Results :\n",
      "['stomach ache']\n",
      "Query is : my husband has a spot on his lip that he though was cold sore but now it has broken open and leak fluid all day\n",
      "Processed : ['my husband has a spot on his lip that he though was cold sore but now it has broken open and leak fluid all day']\n",
      "1.0000000000000002 0.07880042666644532\n",
      "Results :\n",
      "['infected wound']\n",
      "Query is : i do not have problem take in breath but out breath is so heavi\n",
      "Processed : ['i do not have problem take in breath but out breath is so heavi']\n",
      "1.0000000000000002 0.45869840065476714\n",
      "Results :\n",
      "['hard to breath']\n",
      "Query is : my joint ach whenev it is cold\n",
      "Processed : ['my joint ach whenev it is cold']\n",
      "1.0000000000000002 0.14503108194731665\n",
      "Results :\n",
      "['joint pain']\n",
      "Query is : red flush accompani with itchi\n",
      "Processed : ['red flush accompani with itchi']\n",
      "1.0 0.16580273673782234\n",
      "Results :\n",
      "['skin issue']\n",
      "Query is : my head is spin when i get up\n",
      "Processed : ['my head is spin when i get up']\n",
      "1.0 0.3973028089167828\n",
      "Results :\n",
      "['feeling dizzy']\n",
      "Query is : when i tri to answer the phine call i found that i can not hear the voic of the speaker\n",
      "Processed : ['when i tri to answer the phine call i found that i can not hear the voic of the speaker']\n",
      "1.0 0.08789144824427203\n",
      "Results :\n",
      "['ear ache']\n",
      "Query is : i can hard breath\n",
      "Processed : ['i can hard breath']\n",
      "1.0000000000000002 0.6158625297489015\n",
      "Results :\n",
      "['hard to breath']\n",
      "Query is : i feel sever itch in the skin with red\n",
      "Processed : ['i feel sever itch in the skin with red']\n",
      "1.0 0.23305008356240653\n",
      "Results :\n",
      "['skin issue']\n",
      "Query is : pain in the larg neck\n",
      "Processed : ['pain in the larg neck']\n",
      "1.0 0.15317428821731746\n",
      "Results :\n",
      "['neck pain']\n",
      "Query is : the area around my heart doe not feel good\n",
      "Processed : ['the area around my heart doe not feel good']\n",
      "1.0 0.2563030313043009\n",
      "Results :\n",
      "['heart hurts']\n",
      "Query is : yesterday i had a shouder pain\n",
      "Processed : ['yesterday i had a shouder pain']\n",
      "1.0000000000000002 0.10074173399409053\n",
      "Results :\n",
      "['shoulder pain']\n",
      "Query is : my shoulder has agreat pain\n",
      "Processed : ['my shoulder has agreat pain']\n",
      "1.0000000000000002 0.13402618911326133\n",
      "Results :\n",
      "['shoulder pain']\n",
      "Query is : i have a pain in my stomach\n",
      "Processed : ['i have a pain in my stomach']\n",
      "1.0 1.0\n",
      "Results :\n",
      "['internal pain']\n",
      "Query is : i feel a pain in my back when i sit on a chair for long\n",
      "Processed : ['i feel a pain in my back when i sit on a chair for long']\n",
      "1.0 0.2515069884271873\n",
      "Results :\n",
      "['back pain']\n",
      "Query is : there pain in my foot\n",
      "Processed : ['there pain in my foot']\n",
      "1.0 0.6899389671622923\n",
      "Results :\n",
      "['foot ache']\n",
      "Query is : i complain alot with my neck pain and i realli need to be better\n",
      "Processed : ['i complain alot with my neck pain and i realli need to be better']\n",
      "1.0 0.2221543790188921\n",
      "Results :\n",
      "['neck pain']\n",
      "Query is : i feel cold\n",
      "Processed : ['i feel cold']\n",
      "1.0 0.5286408396298904\n",
      "Results :\n",
      "['feeling cold']\n",
      "Query is : i get cluster of pimpl on my face that never go away\n",
      "Processed : ['i get cluster of pimpl on my face that never go away']\n",
      "1.0 0.2694432610107376\n",
      "Results :\n",
      "['acne']\n",
      "Query is : it feel like i can not take a deep breath\n",
      "Processed : ['it feel like i can not take a deep breath']\n",
      "1.0000000000000004 0.26014249920297455\n",
      "Results :\n",
      "['hard to breath']\n",
      "Query is : i have a pain cramp in my feet\n",
      "Processed : ['i have a pain cramp in my feet']\n",
      "1.0000000000000002 0.24736684096408118\n",
      "Results :\n",
      "['foot ache']\n",
      "Query is : i cant breath\n",
      "Processed : ['i cant breath']\n",
      "1.0 0.5181901798531511\n",
      "Results :\n",
      "['cough']\n",
      "Query is : when i do hard exercis i feel great pain in my muscl\n",
      "Processed : ['when i do hard exerci i feel great pain in my muscl']\n",
      "0.7286703978782358 0.5266113587458809\n",
      "Results :\n",
      "['muscle pain']\n",
      "Query is : i feel dizzi and out of sight\n",
      "Processed : ['i feel dizzi and out of sight']\n",
      "1.0 0.27997543009656606\n",
      "Results :\n",
      "['feeling dizzy']\n",
      "Query is : i complain alot with skin allergi\n",
      "Processed : ['i complain alot with skin allergi']\n",
      "1.0000000000000002 0.2221543790188921\n",
      "Results :\n",
      "['skin issue']\n",
      "Query is : i feel like l fell in hot water\n",
      "Processed : ['i feel like l fell in hot water']\n",
      "1.0000000000000002 0.14174471058689955\n",
      "Results :\n",
      "['skin issue']\n",
      "Query is : i notic a lot more hair come out than usual when i brush my hair\n",
      "Processed : ['i notic a lot more hair come out than usual when i brush my hair']\n",
      "1.0000000000000002 0.35232559853827233\n",
      "Results :\n",
      "['hair falling out']\n",
      "Query is : i have notic my hair fall out a lot late\n",
      "Processed : ['i have notic my hair fall out a lot late']\n",
      "1.0 0.3853463711813538\n",
      "Results :\n",
      "['hair falling out']\n",
      "Query is : my bodi feel like it is in a refriger\n",
      "Processed : ['my bodi feel like it is in a refrig']\n",
      "0.6875692916696835 0.2761793237320254\n",
      "Results :\n",
      "['feeling cold']\n",
      "Query is : i can not walk well i have an ach in my foot\n",
      "Processed : ['i can not walk well i have an ach in my foot']\n",
      "1.0 0.22066942354806462\n",
      "Results :\n",
      "['foot ache']\n",
      "Query is : i have the impress of have no strength in my bodi\n",
      "Processed : ['i have the impress of have no strength in my bodi']\n",
      "1.0000000000000002 0.09725120175896772\n",
      "Results :\n",
      "['body feels weak']\n",
      "Query is : it feel like my heart is go to leap out of my bodi it hurt\n",
      "Processed : ['it feel like my heart is go to leap out of my bodi it hurt']\n",
      "1.0000000000000004 0.5243172062533592\n",
      "Results :\n",
      "['heart hurts']\n",
      "Query is : what is the symptom of append\n",
      "Processed : ['what is the symptom of append']\n",
      "1.0000000000000004 0.11629724519117644\n",
      "Results :\n",
      "['internal pain']\n",
      "Query is : after eat i have burn sensat insid of me\n",
      "Processed : ['after eat i have burn sensat insid of me']\n",
      "1.0 0.24894182607904525\n",
      "Results :\n",
      "['stomach ache']\n",
      "Query is : i cannot get warm no matter how much i wrap up or how high i put the heat on\n",
      "Processed : ['i cannot get warm no matter how much i wrap up or how high i put the heat on']\n",
      "1.0 0.10535919153978802\n",
      "Results :\n",
      "['feeling cold']\n",
      "Query is : after play tenni i had a power sensat close to my neck\n",
      "Processed : ['after play tenni i had a power sensat close to my neck']\n",
      "1.0 0.19494977062984123\n",
      "Results :\n",
      "['shoulder pain']\n",
      "Query is : i have an ear ach when shower\n",
      "Processed : ['i have an ear ach when shower']\n",
      "1.0 0.34819095133472056\n",
      "Results :\n",
      "['ear ache']\n",
      "Query is : i have terribl pain in my heart\n",
      "Processed : ['i have terribl pain in my heart']\n",
      "1.0000000000000002 0.2868902741578063\n",
      "Results :\n",
      "['heart hurts']\n",
      "Query is : the warm system of my hous is broken and feel so cold\n",
      "Processed : ['the warm system of my hous is broken and feel so cold']\n",
      "1.0000000000000002 0.3255186820767016\n",
      "Results :\n",
      "['feeling cold']\n",
      "Query is : my hair is fall out after i take a shower\n",
      "Processed : ['my hair is fall out after i take a shower']\n",
      "1.0000000000000002 0.5769562014293044\n",
      "Results :\n",
      "['hair falling out']\n",
      "Query is : i fell through a window while i was clean it and i have a shard of glass stuck in my left eye i think it is pretti serious pleas help!\n",
      "Processed : ['i fell through a window while i was clean it and i have a shard of glass stuck in my left eye i think it is pretti serious plea help!']\n",
      "0.9136622078856973 0.07048820542715999\n",
      "Results :\n",
      "['open wound']\n",
      "Query is : i feel pain in my throat\n",
      "Processed : ['i feel pain in my throat']\n",
      "1.0000000000000002 0.41376343394850285\n",
      "Results :\n",
      "['cough']\n",
      "Query is : i can not stand up i feel my brain is move insid my skull\n",
      "Processed : ['i can not stand up i feel my brain is move insid my skull']\n",
      "1.0 0.1757754369696749\n",
      "Results :\n",
      "['head ache']\n",
      "Query is : i have pimpl on my back\n",
      "Processed : ['i have pimpl on my back']\n",
      "1.0 0.34175439810419417\n",
      "Results :\n",
      "['acne']\n",
      "Query is : i have got a hard time to breath- am i have a heart attack\n",
      "Processed : ['i have got a hard time to breath- am i have a heart attack']\n",
      "1.0 0.33529622027790845\n",
      "Results :\n",
      "['hard to breath']\n",
      "Query is : i can not work good i have a pain in my knee\n",
      "Processed : ['i can not work good i have a pain in my knee']\n",
      "1.0000000000000002 0.2745321369598674\n",
      "Results :\n",
      "['knee pain']\n",
      "Query is : everi time it rain i get hive on my belli and side\n",
      "Processed : ['everi time it rain i get hive on my belli and side']\n",
      "1.0000000000000004 0.15749291075546357\n",
      "Results :\n",
      "['skin issue']\n",
      "Query is : my cut yellow or greenish-color pus\n",
      "Processed : ['my cut yellow or greenish-color pus']\n",
      "1.0000000000000002 0.0887063191771319\n",
      "Results :\n",
      "['infected wound']\n",
      "Query is : i have whoop cough with excess mucous need mucolyt\n",
      "Processed : ['i have whoop cough with excess mucous need mucolyt']\n",
      "1.0 0.08117105213848522\n",
      "Results :\n",
      "['cough']\n",
      "Query is : i think there is someth wrong with my wound it doe not seem to heal like it should\n",
      "Processed : ['i think there is someth wrong with my wound it doe not seem to heal like it should']\n",
      "1.0 0.17766115583497555\n",
      "Results :\n",
      "['infected wound']\n",
      "Query is : i was kick in the head play soccer last night\n",
      "Processed : ['i was kick in the head play soccer last night']\n",
      "1.0 0.23484892872485932\n",
      "Results :\n",
      "['injury from sports']\n",
      "Query is : when i walk i get a stab pain in the top of my foot\n",
      "Processed : ['when i walk i get a stab pain in the top of my foot']\n",
      "1.0000000000000002 0.43693767546769274\n",
      "Results :\n",
      "['foot ache']\n",
      "Query is : i have a wound between my toe that get better overnight and then reopen ever day when i wear dress shoe to work\n",
      "Processed : ['i have a wound between my toe that get better overnight and then reopen ever day when i wear dress shoe to work']\n",
      "1.0000000000000002 0.08178671066981702\n",
      "Results :\n",
      "['open wound']\n",
      "Query is : i feel pain in my back\n",
      "Processed : ['i feel pain in my back']\n",
      "1.0 1.0\n",
      "Results :\n",
      "['back pain']\n",
      "Query is : at first it feel realli numb but then a thousand needl start to prick through my foot\n",
      "Processed : ['at first it feel realli numb but then a thousand needl start to prick through my foot']\n",
      "1.0000000000000004 0.14874223303557688\n",
      "Results :\n",
      "['foot ache']\n",
      "Query is : my cbc report indic 10 hb i feel tire of littl work\n",
      "Processed : ['my cbc report indic 10 hb i feel tire of littl work']\n"
     ]
    },
    {
     "name": "stdout",
     "output_type": "stream",
     "text": [
      "1.0 0.14737441192870276\n",
      "Results :\n",
      "['body feels weak']\n",
      "Query is : when i stand up too quick i feel as though i am go to faint\n",
      "Processed : ['when i stand up too quick i feel as though i am go to faint']\n",
      "1.0000000000000002 0.2817086353909961\n",
      "Results :\n",
      "['feeling dizzy']\n",
      "Query is : i must see a doctor i have an open wound\n",
      "Processed : ['i must see a doctor i have an open wound']\n",
      "1.0 0.38623162411030987\n",
      "Results :\n",
      "['open wound']\n",
      "Query is : the pain in my back dwwls like a sharp knife in it\n",
      "Processed : ['the pain in my back dwwls like a sharp knife in it']\n",
      "1.0000000000000002 0.1066795354522889\n",
      "Results :\n",
      "['back pain']\n",
      "Query is : i can hard move my neck it hurt\n",
      "Processed : ['i can hard move my neck it hurt']\n",
      "1.0 0.35857521154689637\n",
      "Results :\n",
      "['neck pain']\n",
      "Query is : i feel a bone-on-bon pain in my knee when i climb stair\n",
      "Processed : ['i feel a bone-on-bon pain in my knee when i climb stair']\n",
      "1.0 0.609978161635433\n",
      "Results :\n",
      "['joint pain']\n",
      "Query is : when i walk it is hard to breath\n",
      "Processed : ['when i walk it is hard to breath']\n",
      "1.0 0.6158625297489015\n",
      "Results :\n",
      "['hard to breath']\n",
      "Query is : i have a dull ach in my lower back which make it difficult to move\n",
      "Processed : ['i have a dull ach in my lower back which make it difficult to move']\n",
      "1.0000000000000002 0.28393264680701397\n",
      "Results :\n",
      "['back pain']\n",
      "Query is : i have a great pain in my foot like thromb pain with relax my pain releif\n",
      "Processed : ['i have a great pain in my foot like thromb pain with relax my pain releif']\n",
      "0.9999999999999999 0.3021108895795631\n",
      "Results :\n",
      "['foot ache']\n",
      "Query is : it start as a tinnitus but today the pain is throb and unbear\n",
      "Processed : ['it start as a tinnitus but today the pain is throb and unbear']\n",
      "1.0000000000000002 0.13915805464754366\n",
      "Results :\n",
      "['ear ache']\n",
      "Query is : the feel of cough increas in winter reach\n",
      "Processed : ['the feel of cough increa in winter reach']\n",
      "0.6461199150460387 0.14803664676124081\n",
      "Results :\n",
      "['cough']\n",
      "Query is : all of a sudden i felt dizzi when i stood up\n",
      "Processed : ['all of a sudden i felt dizzi when i stood up']\n",
      "1.0 0.21105144984411983\n",
      "Results :\n",
      "['feeling dizzy']\n",
      "Query is : my son got a tattoo sever week ago and the skin around it is rais and hot and it look infect\n",
      "Processed : ['my son got a tattoo sever week ago and the skin around it is rai and hot and it look infect']\n",
      "0.8794246024255978 0.13063122953097894\n",
      "Results :\n",
      "['infected wound']\n",
      "Query is : my infect wound caus a fever\n",
      "Processed : ['my infect wound caus a fever']\n",
      "1.0 1.0\n",
      "Results :\n",
      "['skin issue']\n",
      "Query is : i walk everi day but now i get short of breath after go onli a short way\n",
      "Processed : ['i walk everi day but now i get short of breath after go on a short way']\n",
      "0.8338343898766404 0.218701359072476\n",
      "Results :\n",
      "['hard to breath']\n",
      "Query is : there feel like a swollen knot at my shoulderblad with pain shoot from that\n",
      "Processed : ['there feel like a swollen knot at my shoulderblad with pain shoot from that']\n",
      "1.0000000000000002 0.1820855530805859\n",
      "Results :\n",
      "['shoulder pain']\n",
      "Query is : there is a sharp pain in my bicep\n",
      "Processed : ['there is a sharp pain in my bicep']\n",
      "1.0 0.4417831552380552\n",
      "Results :\n",
      "['muscle pain']\n",
      "Query is : i cannot bear this squeez sensat i have in my chest\n",
      "Processed : ['i cannot bear this squeez sensat i have in my chest']\n",
      "1.0000000000000002 0.1157433794513936\n",
      "Results :\n",
      "['heart hurts']\n",
      "Query is : i feel back pain when i carri heavi thing\n",
      "Processed : ['i feel back pain when i carri heavi thing']\n",
      "1.0 0.49331373544339735\n",
      "Results :\n",
      "['back pain']\n",
      "Query is : the joint in my finger are pain in the morn\n",
      "Processed : ['the joint in my finger are pain in the morn']\n",
      "1.0000000000000002 0.18649359272988483\n",
      "Results :\n",
      "['joint pain']\n",
      "Query is : sometim my bodi feel week without reason\n",
      "Processed : ['sometim my bodi feel week without reason']\n",
      "0.9999999999999999 0.15001050345364209\n",
      "Results :\n",
      "['body feels weak']\n",
      "Query is : even if the temperatur is high in the hous my bodi is alway cold\n",
      "Processed : ['even if the temperatur is high in the hous my bodi is alway cold']\n",
      "1.0 0.30825588351595706\n",
      "Results :\n",
      "['feeling cold']\n",
      "Query is : i cut myself and i am bleed\n",
      "Processed : ['i cut myself and i am bleed']\n",
      "1.0 0.199202834775554\n",
      "Results :\n",
      "['open wound']\n",
      "Query is : my face is all broken out with pimpl\n",
      "Processed : ['my face is all broken out with pimpl']\n",
      "1.0000000000000002 0.34175439810419417\n",
      "Results :\n",
      "['acne']\n",
      "Query is : when i get up i feel dizzi and fall down\n",
      "Processed : ['when i get up i feel dizzi and fall down']\n",
      "1.0000000000000002 0.2938060034686703\n",
      "Results :\n",
      "['feeling dizzy']\n",
      "Query is : i feel pain in my leg muscl after i ran yesterday i took some pain killer but it doe not help\n",
      "Processed : ['i feel pain in my leg muscl after i ran yesterday i took some pain killer but it doe not help']\n",
      "1.0000000000000007 0.18694112619873154\n",
      "Results :\n",
      "['muscle pain']\n",
      "Query is : my knee ach on cold and raini day\n",
      "Processed : ['my knee ach on cold and raini day']\n",
      "1.0000000000000002 0.2682019578323722\n",
      "Results :\n",
      "['knee pain']\n",
      "Query is : i feel congest in my chest\n",
      "Processed : ['i feel congest in my chest']\n",
      "1.0 0.12785705365130534\n",
      "Results :\n",
      "['cough']\n",
      "Query is : i think my bodi temperatur is veri low\n",
      "Processed : ['i think my bodi temperatur is veri low']\n",
      "0.9999999999999998 0.12563999499002393\n",
      "Results :\n",
      "['feeling cold']\n",
      "Query is : my stomach ach after i drink ani soda drink whi\n",
      "Processed : ['my stomach ach after i drink ani soda drink whi']\n",
      "1.0000000000000002 0.18316304939599684\n",
      "Results :\n",
      "['stomach ache']\n",
      "Query is : i have a blurri vision after my head was hit yesterday\n",
      "Processed : ['i have a blurri vision after my head was hit yesterday']\n",
      "1.0 0.24906784174430033\n",
      "Results :\n",
      "['blurry vision']\n",
      "Query is : i had a sharp pain in my stomach\n",
      "Processed : ['i had a sharp pain in my stomach']\n",
      "1.0000000000000002 0.8102896668525881\n",
      "Results :\n",
      "['stomach ache']\n",
      "Query is : my knee feel weak and it gave way the other day at the top of the stair luckili there was a rail to hold on to\n",
      "Processed : ['my knee feel weak and it gave way the other day at the top of the stair luckili there was a rail to hold on to']\n",
      "1.0000000000000009 0.22604276162913592\n",
      "Results :\n",
      "['knee pain']\n",
      "Query is : there is a tingl sensat in my neck\n",
      "Processed : ['there is a tingl sensat in my neck']\n",
      "1.0 0.15271747934262017\n",
      "Results :\n",
      "['neck pain']\n",
      "Query is : i feel great pain in the head\n",
      "Processed : ['i feel great pain in the head']\n",
      "1.0000000000000002 0.5058017112639016\n",
      "Results :\n",
      "['head ache']\n",
      "Query is : i have general discomfort in my torso\n",
      "Processed : ['i have general discomfort in my torso']\n",
      "1.0 0.2585285511218064\n",
      "Results :\n",
      "['internal pain']\n",
      "Query is : i toppl over while jump to catch the ball\n",
      "Processed : ['i toppl over while jump to catch the ball']\n",
      "1.0 0.09824819783949175\n",
      "Results :\n",
      "['injury from sports']\n",
      "Query is : after an hard work day i have foot ach\n",
      "Processed : ['after an hard work day i have foot ach']\n",
      "1.0 0.18843423819925761\n",
      "Results :\n",
      "['foot ache']\n",
      "Query is : i am feel so dizzi bodi is so fragil\n",
      "Processed : ['i am feel so dizzi bodi is so fragil']\n",
      "1.0000000000000002 0.21888558708078223\n",
      "Results :\n",
      "['body feels weak']\n",
      "Query is : there is a sharp pain in my ear whenev i do this\n",
      "Processed : ['there is a sharp pain in my ear whenev i do this']\n",
      "1.0 0.7308731679754359\n",
      "Results :\n",
      "['ear ache']\n",
      "Query is : when i walk up a flight of stair my right knee hurt\n",
      "Processed : ['when i walk up a flight of stair my right knee hurt']\n",
      "1.0000000000000004 0.252762184658878\n",
      "Results :\n",
      "['knee pain']\n",
      "Query is : i was travel by ship and i feel dizzi\n",
      "Processed : ['i was travel by ship and i feel dizzi']\n",
      "1.0 0.21194778247045137\n",
      "Results :\n",
      "['feeling dizzy']\n",
      "Query is : i feel a great pain in my shoulder when i tri to lift someth heavi\n",
      "Processed : ['i feel a great pain in my shoulder when i tri to lift someth heavi']\n",
      "1.0000000000000002 0.3386539212828081\n",
      "Results :\n",
      "['shoulder pain']\n",
      "Query is : i do not know whi i feel cold\n",
      "Processed : ['i do not know whi i feel cold']\n",
      "1.0000000000000002 0.4154496557201983\n",
      "Results :\n",
      "['feeling cold']\n",
      "Query is : stiff inabl to look right or left except by move the whole bodi\n",
      "Processed : ['stiff inabl to look right or left except by move the whole bodi']\n",
      "1.0000000000000002 0.09850724859705133\n",
      "Results :\n",
      "['neck pain']\n",
      "Query is : everi time i comb my hair there are so mani hair in my comb\n",
      "Processed : ['everi time i comb my hair there are so mani hair in my comb']\n"
     ]
    },
    {
     "name": "stdout",
     "output_type": "stream",
     "text": [
      "1.0 0.2974101051898479\n",
      "Results :\n",
      "['hair falling out']\n",
      "Query is : i have a great stomach ach and i can not eat ani thing\n",
      "Processed : ['i have a great stomach ach and i can not eat ani thing']\n",
      "1.0 0.3086890430014834\n",
      "Results :\n",
      "['stomach ache']\n",
      "Query is : i cannot breath becaus of this dull ach below my left shoulder\n",
      "Processed : ['i cannot breath becaus of this dull ach below my left shoulder']\n",
      "1.0000000000000002 0.26482767827534764\n",
      "Results :\n",
      "['heart hurts']\n",
      "Query is : i have a dull ach in my stomach it get wors after i eat\n",
      "Processed : ['i have a dull ach in my stomach it get wor after i eat']\n",
      "0.7029572449606246 0.408758261199047\n",
      "Results :\n",
      "['internal pain']\n",
      "Query is : i have shoot pain up and down my back\n",
      "Processed : ['i have shoot pain up and down my back']\n",
      "1.0000000000000002 0.6165549295116654\n",
      "Results :\n",
      "['back pain']\n",
      "Query is : my hair is fall out in bunch\n",
      "Processed : ['my hair is fall out in bunch']\n",
      "1.0 0.5603956501099638\n",
      "Results :\n",
      "['hair falling out']\n",
      "Query is : i have a cut that is red and swollen\n",
      "Processed : ['i have a cut that is red and swollen']\n",
      "1.0000000000000002 0.19573358594888057\n",
      "Results :\n",
      "['infected wound']\n",
      "Query is : i feel head ach\n",
      "Processed : ['i feel head ach']\n",
      "1.0 0.41238882558692536\n",
      "Results :\n",
      "['head ache']\n",
      "Query is : i feel veri weak in my bodi\n",
      "Processed : ['i feel veri weak in my bodi']\n",
      "1.0 0.493940173314727\n",
      "Results :\n",
      "['body feels weak']\n",
      "Query is : i have difficulti in breath in crowd place\n",
      "Processed : ['i have difficulti in breath in crowd place']\n",
      "1.0 0.2200998045183325\n",
      "Results :\n",
      "['hard to breath']\n",
      "Query is : i have a migrain and i took panadol but it doesn�����t help\n",
      "Processed : ['i have a migrain and i took panadol but it doesn�����t help']\n",
      "1.0000000000000004 0.5568823627618531\n",
      "Results :\n",
      "['head ache']\n",
      "Query is : my kee is swallow which indic i have an infect wound\n",
      "Processed : ['my kee is swallow which indic i have an infect wound']\n",
      "1.0 0.19280169200160294\n",
      "Results :\n",
      "['infected wound']\n",
      "Query is : i feel emot crush\n",
      "Processed : ['i feel emot crush']\n",
      "0.9999999999999998 0.20997740676019833\n",
      "Results :\n",
      "['emotional pain']\n",
      "Query is : i have a throb in my joint\n",
      "Processed : ['i have a throb in my joint']\n",
      "1.0 0.256860078833632\n",
      "Results :\n",
      "['joint pain']\n",
      "Query is : i do not have full rang of motion with my arm\n",
      "Processed : ['i do not have full rang of motion with my arm']\n",
      "1.0 0.16401292893576921\n",
      "Results :\n",
      "['shoulder pain']\n",
      "Query is : i get a knee pain when i walk a lot\n",
      "Processed : ['i get a knee pain when i walk a lot']\n",
      "1.0000000000000002 1.0000000000000002\n",
      "Results :\n",
      "['knee pain']\n",
      "Query is : sever pain in the upper left side of chest and may have pain to back\n",
      "Processed : ['sever pain in the upper left side of chest and may have pain to back']\n",
      "1.0000000000000002 0.2536357879073876\n",
      "Results :\n",
      "['heart hurts']\n",
      "Query is : i love to garden but i get a terribl twing in my lower back when i lean over\n",
      "Processed : ['i love to garden but i get a terribl twing in my lower back when i lean over']\n",
      "1.0 0.11805057752738633\n",
      "Results :\n",
      "['back pain']\n",
      "Query is : i had an accid and my wound was open when i arriv to hospit\n",
      "Processed : ['i had an accid and my wound was open when i arriv to hospit']\n",
      "1.0000000000000002 0.4043490256417936\n",
      "Results :\n",
      "['open wound']\n",
      "Query is : i feel veri hard to breath\n",
      "Processed : ['i feel veri hard to breath']\n",
      "1.0 0.5137115465228712\n",
      "Results :\n",
      "['hard to breath']\n",
      "Query is : i feel a burn sensat in my gut about 2 hour after each meal\n",
      "Processed : ['i feel a burn sensat in my gut about 2 hour after each meal']\n",
      "1.0000000000000002 0.36730486895137354\n",
      "Results :\n",
      "['stomach ache']\n",
      "Query is : sometim when it is cold outsid my face hurt especi around the pimpl that are readi to pop\n",
      "Processed : ['sometim when it is cold outsid my face hurt especi around the pimpl that are readi to pop']\n",
      "1.0 0.15936918958287688\n",
      "Results :\n",
      "['acne']\n",
      "Query is : i can not stand up or sit down i have a pain in my back that annoy me\n",
      "Processed : ['i can not stand up or sit down i have a pain in my back that annoy me']\n",
      "1.0000000000000002 0.24142111059376153\n",
      "Results :\n",
      "['back pain']\n",
      "Query is : when i move on my shoulder pain shoot down my arm\n",
      "Processed : ['when i move on my shoulder pain shoot down my arm']\n",
      "1.0 0.2536976284025553\n",
      "Results :\n",
      "['shoulder pain']\n",
      "Query is : my entir bodi is freez\n",
      "Processed : ['my entir bodi is freez']\n",
      "1.0000000000000002 0.0962172873705867\n",
      "Results :\n",
      "['feeling cold']\n",
      "Query is : i made lot and lot of analysi to know the main reason for my stomach ach\n",
      "Processed : ['i made lot and lot of analysi to know the main reason for my stomach ach']\n",
      "0.9999999999999999 0.14935014992570853\n",
      "Results :\n",
      "['stomach ache']\n",
      "Query is : when i think of my parent i feel pain\n",
      "Processed : ['when i think of my parent i feel pain']\n",
      "1.0 0.30249625030200883\n",
      "Results :\n",
      "['emotional pain']\n",
      "Query is : i had a cold the last time i travel by plane and i still have a discomfort in my ear\n",
      "Processed : ['i had a cold the last time i travel by plane and i still have a discomfort in my ear']\n",
      "1.0 0.18612976029569614\n",
      "Results :\n",
      "['ear ache']\n",
      "Query is : my skin is itch\n",
      "Processed : ['my skin is itch']\n",
      "1.0000000000000002 0.23305008356240653\n",
      "Results :\n",
      "['skin issue']\n",
      "Query is : my neck is annoy me i can not sleep bacaus of it\n",
      "Processed : ['my neck is annoy me i can not sleep bacaus of it']\n",
      "1.0000000000000002 0.11176854941640783\n",
      "Results :\n",
      "['neck pain']\n",
      "Query is : i have a pain in my joint\n",
      "Processed : ['i have a pain in my joint']\n",
      "1.0 0.583426838181263\n",
      "Results :\n",
      "['joint pain']\n",
      "Query is : when i go to stand my head start swirl\n",
      "Processed : ['when i go to stand my head start swirl']\n",
      "1.0 0.2196291071697717\n",
      "Results :\n",
      "['feeling dizzy']\n",
      "Query is : i have acn in my face and other problema in my derma like itch\n",
      "Processed : ['i have acn in my face and other problema in my derma like itch']\n",
      "1.0000000000000002 0.513838842768724\n",
      "Results :\n",
      "['skin issue']\n",
      "Query is : i do not feel better in my muscl\n",
      "Processed : ['i do not feel better in my muscl']\n",
      "1.0 0.19812890457666807\n",
      "Results :\n",
      "['muscle pain']\n",
      "Query is : heavi breath with fatigu\n",
      "Processed : ['heavi breath with fatigu']\n",
      "1.0 0.33940139976563466\n",
      "Results :\n",
      "['emotional pain']\n",
      "Query is : i had alot of exercis yesterday so i feel sharp muscl pain\n",
      "Processed : ['i had alot of exerci yesterday so i feel sharp muscl pain']\n",
      "0.8059858166160516 0.2538124075586532\n",
      "Results :\n",
      "['muscle pain']\n",
      "Query is : my knee swell right below the knee cap and hurt when i put weight on them\n",
      "Processed : ['my knee swell right below the knee cap and hurt when i put weight on them']\n",
      "1.0000000000000004 0.17435146678276373\n",
      "Results :\n",
      "['knee pain']\n",
      "Query is : my temperatur drop and my bodi get synos\n",
      "Processed : ['my temperatur drop and my bodi get syno']\n",
      "0.7944924858031885 0.15813868253644806\n",
      "Results :\n",
      "['feeling cold']\n",
      "Query is : when i get up i see my skin vagu\n",
      "Processed : ['when i get up i see my skin vagu']\n",
      "1.0000000000000002 0.1764486542012873\n",
      "Results :\n",
      "['skin issue']\n",
      "Query is : when i tri to take care if my hair i found that it is fall out\n",
      "Processed : ['when i tri to take care if my hair i found that it is fall out']\n",
      "1.0 0.4510963428377195\n",
      "Results :\n",
      "['hair falling out']\n",
      "Query is : i notic an import decreas in my vision when i tri to look at thing up close\n",
      "Processed : ['i notic an import decrea in my vision when i tri to look at thing up close']\n",
      "0.8201352471331836 0.13688600340478171\n",
      "Results :\n",
      "['blurry vision']\n",
      "Query is : i was watch tv and sudden have blurri vision\n",
      "Processed : ['i was watch tv and sudden have blurri vision']\n",
      "1.0000000000000002 0.23566038503812975\n",
      "Results :\n",
      "['blurry vision']\n",
      "Query is : i feel muscl pain everi time i make an extra effort\n",
      "Processed : ['i feel muscl pain everi time i make an extra effort']\n",
      "1.0000000000000004 0.3348319049138053\n",
      "Results :\n",
      "['muscle pain']\n",
      "Query is : i start take swim lesson and i guess i swallow too much water through my nose becaus this sinus is kill me now\n",
      "Processed : ['i start take swim lesson and i guess i swallow too much water through my nose becaus this sinus is kill me now']\n",
      "1.0000000000000002 0.09644218659550327\n",
      "Results :\n",
      "['injury from sports']\n",
      "Query is : i feel pain when i think of her\n",
      "Processed : ['i feel pain when i think of her']\n",
      "1.0 0.4267890491072596\n",
      "Results :\n",
      "['emotional pain']\n",
      "Query is : i have alway been veri activ but now i just do not have the strength or energi to go for even a short walk\n",
      "Processed : ['i have alway been veri activ but now i just do not have the strength or energi to go for even a short walk']\n",
      "1.0 0.15896861245715366\n",
      "Results :\n",
      "['body feels weak']\n",
      "Query is : i have an intern pain i cannot describ\n",
      "Processed : ['i have an intern pain i cannot describ']\n",
      "1.0000000000000002 0.29512847755353144\n",
      "Results :\n",
      "['internal pain']\n",
      "Query is : in the morn my respir is loud\n",
      "Processed : ['in the morn my respir is loud']\n",
      "1.0 0.09351320890949258\n",
      "Results :\n",
      "['hard to breath']\n",
      "Query is : cramp along the whole abdomen\n",
      "Processed : ['cramp along the whole abdomen']\n",
      "1.0 0.25186693041653274\n",
      "Results :\n",
      "['stomach ache']\n",
      "Query is : my sore look like it not heal well\n",
      "Processed : ['my sore look like it not heal well']\n",
      "1.0 0.2026271372193168\n",
      "Results :\n",
      "['infected wound']\n",
      "Query is : i feel cold when the night come\n",
      "Processed : ['i feel cold when the night come']\n",
      "1.0000000000000002 0.3964771641118401\n",
      "Results :\n",
      "['feeling cold']\n",
      "Query is : i feel shoulder pain at interv of time\n",
      "Processed : ['i feel shoulder pain at interv of time']\n",
      "1.0000000000000002 0.30120767587924596\n",
      "Results :\n",
      "['shoulder pain']\n",
      "Query is : my muscl in my shoulder burn when i move my arm\n",
      "Processed : ['my muscl in my shoulder burn when i move my arm']\n",
      "1.0000000000000004 0.18004957784261813\n",
      "Results :\n",
      "['muscle pain']\n",
      "Query is : it itch insid my ear\n",
      "Processed : ['it itch insid my ear']\n",
      "1.0000000000000002 0.20429381835607827\n",
      "Results :\n",
      "['ear ache']\n",
      "Query is : my face has broken out in pain red spot and lump that no matter how much i clean my face do not seem to be go away\n",
      "Processed : ['my face has broken out in pain red spot and lump that no matter how much i clean my face do not seem to be go away']\n",
      "1.0 0.23829782529317767\n",
      "Results :\n",
      "['acne']\n",
      "Query is : i get cluster of whitehead and blackhead on my back\n",
      "Processed : ['i get cluster of whitehead and blackhead on my back']\n",
      "1.0000000000000002 0.13626859531153676\n",
      "Results :\n",
      "['acne']\n",
      "Query is : i feel like i went to an acupunctur practic and had 100 needl in my shoulder\n",
      "Processed : ['i feel like i went to an acupunctur practic and had 100 needl in my shoulder']\n",
      "1.0000000000000002 0.10121466597338365\n",
      "Results :\n",
      "['shoulder pain']\n",
      "Query is : my hair is fall without a reason i can see a lot of hair on my work desk\n",
      "Processed : ['my hair is fall without a reason i can see a lot of hair on my work desk']\n",
      "1.0000000000000002 0.38845601420185016\n",
      "Results :\n",
      "['hair falling out']\n",
      "Query is : hear ani loud sound make my ear ach\n",
      "Processed : ['hear ani loud sound make my ear ach']\n",
      "1.0 0.18324994356315893\n",
      "Results :\n",
      "['ear ache']\n",
      "Query is : i have acn all over my face\n",
      "Processed : ['i have acn all over my face']\n",
      "1.0000000000000002 1.0000000000000002\n",
      "Results :\n",
      "['acne']\n",
      "Query is : i feel a great amount of pressur on the side of my neck\n",
      "Processed : ['i feel a great amount of pressur on the side of my neck']\n",
      "1.0000000000000002 0.5973661851077495\n",
      "Results :\n",
      "['shoulder pain']\n",
      "Query is : i think i sprain my ankl it realli hurt\n",
      "Processed : ['i think i sprain my ankl it realli hurt']\n",
      "1.0 0.23565103520577851\n",
      "Results :\n",
      "['injury from sports']\n",
      "Query is : is my cut infect or just heal\n",
      "Processed : ['is my cut infect or just heal']\n",
      "1.0 0.13968619424350862\n",
      "Results :\n",
      "['infected wound']\n",
      "Query is : i feel realli sad all the time\n",
      "Processed : ['i feel realli sad all the time']\n",
      "1.0 0.22001350961542102\n",
      "Results :\n",
      "['emotional pain']\n",
      "Query is : i feel someth hurt me in take breath and i cant take my breath\n",
      "Processed : ['i feel someth hurt me in take breath and i cant take my breath']\n",
      "1.0 0.4146765818339751\n",
      "Results :\n",
      "['hard to breath']\n",
      "Query is : my nose is congest all the time and there is this gluey secret in my throat that make it imposs for me to sleep i often have to nap sit down\n",
      "Processed : ['my nose is congest all the time and there is this gluey secret in my throat that make it imposs for me to sleep i often have to nap sit down']\n",
      "1.0000000000000002 0.09251972792945624\n",
      "Results :\n",
      "['hard to breath']\n",
      "Query is : when get up i found that i have a stomach ach and i tri to take medecin but my stomach still hurt me\n",
      "Processed : ['when get up i found that i have a stomach ach and i tri to take medecin but my stomach still hurt me']\n",
      "1.0000000000000002 0.22674705490856842\n",
      "Results :\n",
      "['stomach ache']\n",
      "Query is : my left side ach much\n",
      "Processed : ['my left side ach much']\n",
      "1.0000000000000002 0.17459771849982142\n",
      "Results :\n",
      "['internal pain']\n",
      "Query is : my ear hurt when i touch it\n",
      "Processed : ['my ear hurt when i touch it']\n",
      "1.0 0.36966308017482813\n",
      "Results :\n",
      "['ear ache']\n",
      "Query is : you will not believ me but this infect wound on my hand is from a paper cut i did not take serious\n",
      "Processed : ['you will not believ me but this infect wound on my hand is from a paper cut i did not take serious']\n",
      "1.0 0.15733252971419984\n",
      "Results :\n",
      "['infected wound']\n",
      "Query is : these red spot on my cheek are new what is it\n",
      "Processed : ['these red spot on my cheek are new what is it']\n",
      "1.0000000000000002 0.15041834817297955\n",
      "Results :\n",
      "['skin issue']\n",
      "Query is : i have a skin rash after eat an ice-cream\n",
      "Processed : ['i have a skin rash after eat an ice-cream']\n",
      "1.0000000000000004 0.4370312895740196\n",
      "Results :\n",
      "['skin issue']\n",
      "Query is : i have a sharp pain in my abdomen\n",
      "Processed : ['i have a sharp pain in my abdomen']\n",
      "1.0000000000000002 0.3104157173254102\n",
      "Results :\n",
      "['internal pain']\n",
      "Query is : i feel a strang and power pain insid my rib cage\n",
      "Processed : ['i feel a strang and power pain insid my rib cage']\n",
      "1.0000000000000002 0.9016035971571648\n",
      "Results :\n",
      "['heart hurts']\n",
      "Query is : use hair tonic\n",
      "Processed : ['use hair tonic']\n"
     ]
    },
    {
     "name": "stdout",
     "output_type": "stream",
     "text": [
      "1.0 0.27523596420340685\n",
      "Results :\n",
      "['hair falling out']\n",
      "Query is : this long scar on my left buttock is from fall off my mountain bike\n",
      "Processed : ['this long scar on my left buttock is from fall off my mountain bike']\n",
      "1.0 0.09818416842570081\n",
      "Results :\n",
      "['injury from sports']\n",
      "Query is : i feel like i just can not cope anymor i feel overwhelm and like i just can not get a break\n",
      "Processed : ['i feel like i just can not cope anymor i feel overwhelm and like i just can not get a break']\n",
      "1.0000000000000002 0.12681214549227426\n",
      "Results :\n",
      "['emotional pain']\n",
      "Query is : i feel chilli like an ice cube my sister said that she need sever blanket to cover her so that she is warm enough\n",
      "Processed : ['i feel chilli like an ice cube my sister said that she need sever blanket to cover her so that she is warm enough']\n",
      "1.0 0.06961643764844953\n",
      "Results :\n",
      "['feeling cold']\n",
      "Query is : i carri a heavi bag yesterday and when i get up today i felt a great shoulder pain\n",
      "Processed : ['i carri a heavi bag yesterday and when i get up today i felt a great shoulder pain']\n",
      "1.0 0.17076695764692287\n",
      "Results :\n",
      "['shoulder pain']\n",
      "Query is : i have a blurri vision and i can not see in the dark what is the reason doctor\n",
      "Processed : ['i have a blurri vision and i can not see in the dark what is the reason doctor']\n",
      "1.0000000000000002 0.24014341549346135\n",
      "Results :\n",
      "['blurry vision']\n",
      "Query is : when i am tire i feel my head heavi\n",
      "Processed : ['when i am tire i feel my head heavi']\n",
      "1.0000000000000002 0.27748457622561007\n",
      "Results :\n",
      "['head ache']\n",
      "Query is : i have difficulti move my neck\n",
      "Processed : ['i have difficulti move my neck']\n",
      "1.0 0.3578175722955157\n",
      "Results :\n",
      "['neck pain']\n",
      "Query is : my back hurt so much i can not bend down to tie my shoelac\n",
      "Processed : ['my back hurt so much i can not bend down to tie my shoelac']\n",
      "1.0 0.3096371468218522\n",
      "Results :\n",
      "['back pain']\n",
      "Query is : i have a ear ach when i go to the pool\n",
      "Processed : ['i have a ear ach when i go to the pool']\n",
      "1.0000000000000002 0.3457843690614374\n",
      "Results :\n",
      "['ear ache']\n",
      "Query is : my heart hurt when i exercis\n",
      "Processed : ['my heart hurt when i exerci']\n",
      "1.0000000000000002 0.578054451216149\n",
      "Results :\n",
      "['heart hurts']\n",
      "Query is : my neck hurt me and i can not stand with this pain\n",
      "Processed : ['my neck hurt me and i can not stand with this pain']\n",
      "0.9999999999999999 0.2947419752567509\n",
      "Results :\n",
      "['neck pain']\n",
      "Query is : i have disterb in my emot\n",
      "Processed : ['i have disterb in my emot']\n",
      "1.0 0.20997740676019835\n",
      "Results :\n",
      "['emotional pain']\n",
      "Query is : anytim i play tenni i feel a shoulder pain\n",
      "Processed : ['anytim i play tenni i feel a shoulder pain']\n",
      "1.0 0.3012076758792459\n",
      "Results :\n",
      "['shoulder pain']\n",
      "Query is : i feel weak\n",
      "Processed : ['i feel weak']\n",
      "1.0 1.0\n",
      "Results :\n",
      "['body feels weak']\n",
      "Query is : when i sneez veri hard i feel ear ach\n",
      "Processed : ['when i sneez veri hard i feel ear ach']\n",
      "1.0000000000000002 0.22099551567586406\n",
      "Results :\n",
      "['ear ache']\n",
      "Query is : i feel like my heart is on fire\n",
      "Processed : ['i feel like my heart is on fire']\n",
      "1.0000000000000002 0.5243172062533592\n",
      "Results :\n",
      "['heart hurts']\n",
      "Query is : when i lift my arm up i have a sore in my shoulder\n",
      "Processed : ['when i lift my arm up i have a sore in my shoulder']\n",
      "1.0000000000000002 0.14436622744248742\n",
      "Results :\n",
      "['shoulder pain']\n",
      "Query is : i feel a click sensat in my knee each time i step\n",
      "Processed : ['i feel a click sensat in my knee each time i step']\n",
      "1.0000000000000002 0.08781397773310586\n",
      "Results :\n",
      "['joint pain']\n",
      "Query is : surgic wound infect\n",
      "Processed : ['surgic wound infect']\n",
      "1.0000000000000002 0.3872901699860313\n",
      "Results :\n",
      "['infected wound']\n",
      "Query is : red swell and difficulti walk\n",
      "Processed : ['red swell and difficulti walk']\n",
      "1.0 0.19193994585508245\n",
      "Results :\n",
      "['knee pain']\n",
      "Query is : i have a migrain and i took panadol but it doe not help\n",
      "Processed : ['i have a migrain and i took panadol but it doe not help']\n",
      "1.0 0.5568823627618531\n",
      "Results :\n",
      "['head ache']\n",
      "Query is : due to the recent event i have been feel quit deject and sad\n",
      "Processed : ['due to the recent event i have been feel quit deject and sad']\n",
      "1.0000000000000002 0.15476283194640267\n",
      "Results :\n",
      "['emotional pain']\n",
      "Query is : i feel restless and confus at time\n",
      "Processed : ['i feel restless and confus at time']\n",
      "1.0000000000000004 0.06827205105608913\n",
      "Results :\n",
      "['emotional pain']\n",
      "Query is : i can not see far off thing clear\n",
      "Processed : ['i can not see far off thing clear']\n",
      "1.0000000000000002 0.18588189461144336\n",
      "Results :\n",
      "['blurry vision']\n",
      "Query is : stay out for long durat dure the day give me a rash\n",
      "Processed : ['stay out for long durat dure the day give me a rash']\n",
      "1.0000000000000002 0.11579230690869494\n",
      "Results :\n",
      "['sunburn']\n",
      "Query is : i feel tire and overwork\n",
      "Processed : ['i feel tire and overwork']\n",
      "1.0000000000000002 0.33049050085554055\n",
      "Results :\n",
      "['feeling dizzy']\n",
      "Query is : i get chill and sweat a lot\n",
      "Processed : ['i get chill and sweat a lot']\n",
      "1.0 0.24504757998575447\n",
      "Results :\n",
      "['fever']\n",
      "Query is : i feel like no one like me and ignor me\n",
      "Processed : ['i feel like no one like me and ignor me']\n",
      "1.0000000000000002 0.22769762106341862\n",
      "Results :\n",
      "['emotional pain']\n",
      "Query is : stare at the laptop screen make my head ach\n",
      "Processed : ['stare at the laptop screen make my head ach']\n",
      "1.0000000000000002 0.29275953598477045\n",
      "Results :\n",
      "['head ache']\n",
      "Query is : i have sore throat can not tast anyth\n",
      "Processed : ['i have sore throat can not tast anyth']\n",
      "1.0 0.15380316783497097\n",
      "Results :\n",
      "['cold and cough']\n",
      "Query is : i feel uneasi and thump in my chest\n",
      "Processed : ['i feel uneasi and thump in my chest']\n",
      "1.0000000000000004 0.09809608316700197\n",
      "Results :\n",
      "['internal pain']\n",
      "Query is : i feel tire after long walk\n",
      "Processed : ['i feel tire after long walk']\n",
      "1.0 0.27248804421837314\n",
      "Results :\n",
      "['hard to breath']\n",
      "Query is : my head is heavi and i feel pain behind my eye\n",
      "Processed : ['my head is heavi and i feel pain behind my eye']\n",
      "1.0000000000000002 0.4329605925517252\n",
      "Results :\n",
      "['head ache']\n",
      "Query is : my nose is run and i have been feel tire from the least amount of work\n",
      "Processed : ['my nose is run and i have been feel tire from the least amount of work']\n",
      "1.0000000000000004 0.29940385793864\n",
      "Results :\n",
      "['feeling cold']\n",
      "Query is : there has been a weird ach in the leg sinc the last two week and i can not run or play\n",
      "Processed : ['there has been a weird ach in the leg sinc the last two week and i can not run or play']\n",
      "1.0000000000000002 0.11625385585354725\n",
      "Results :\n",
      "['foot ache']\n",
      "Query is : i can not stop think about him whenev i see anyth associ to him\n",
      "Processed : ['i can not stop think about him whenev i see anyth associ to him']\n",
      "1.0000000000000002 0.13314944227563505\n",
      "Results :\n",
      "['emotional pain']\n",
      "Query is : my armpit has a red colour rash grow sinc the past 1 week\n",
      "Processed : ['my armpit has a red colour rash grow sinc the past 1 week']\n",
      "0.9999999999999992 0.09723729628010513\n",
      "Results :\n",
      "['skin issue']\n",
      "Query is : sinc i ate a bad hot dog my stomach has been behav weird and i can not sit upright for veri long\n",
      "Processed : ['sinc i ate a bad hot dog my stomach has been behav weird and i can not sit upright for veri long']\n",
      "0.9999999999999999 0.08393955062724992\n",
      "Results :\n",
      "['stomach ache']\n",
      "Query is : yesterday an insect bit me on the left leg and it was not veri major but wake up today i see a yellow secret come out of the wound\n",
      "Processed : ['yesterday an insect bit me on the left leg and it was not veri major but wake up today i see a yellow secret come out of the wound']\n",
      "0.9999999999999999 0.1326461069993644\n",
      "Results :\n",
      "['infected wound']\n",
      "Query is : dure footbal i twist my ankl and was abl to walk back home yesterday but today i can not even walk proper and it hurt a lot\n",
      "Processed : ['dure footbal i twist my ankl and was abl to walk back home yesterday but today i can not even walk proper and it hurt a lot']\n",
      "1.0 0.20484466947921653\n",
      "Results :\n",
      "['injury from sports']\n",
      "Query is : there is a wheez sound when i breath and i am experienc a lot of mucus\n",
      "Processed : ['there is a wheez sound when i breath and i am experienc a lot of mucus']\n",
      "1.0000000000000002 0.26396485974954953\n",
      "Results :\n",
      "['cough']\n",
      "Query is : there is a strike pain in my knee whenev i tri to move my left leg\n",
      "Processed : ['there is a strike pain in my knee whenev i tri to move my left leg']\n",
      "1.0000000000000002 0.2168116749553647\n",
      "Results :\n",
      "['knee pain']\n",
      "Query is : sinc the last week i have been feel tire even after simpl walk or move up the stair in my offic\n",
      "Processed : ['sinc the last week i have been feel tire even after simpl walk or move up the stair in my offic']\n",
      "1.0 0.17006443102903845\n",
      "Results :\n",
      "['body feels weak']\n",
      "Query is : i do not know what happen but i can not bend down to pick up anyth as it hurt a lot when i do\n",
      "Processed : ['i do not know what happen but i can not bend down to pick up anyth as it hurt a lot when i do']\n",
      "1.0 0.2931123197719931\n",
      "Results :\n",
      "['back pain']\n",
      "Query is : my neck has been stiff sinc i twist it accident two day ago\n",
      "Processed : ['my neck has been stiff sinc i twist it accid two day ago']\n",
      "0.7472184474957687 0.19919235670626362\n",
      "Results :\n",
      "['neck pain']\n",
      "Query is : sinc the past 3 day i can not see proper even in bright light dure the night the vision almost complet goe off\n",
      "Processed : ['sinc the past 3 day i can not see proper even in bright light dure the night the vision almost complet goe off']\n",
      "1.0000000000000002 0.12934836014501366\n",
      "Results :\n",
      "['blurry vision']\n",
      "Query is : my face has been experienc a lot of breakout dure the chang of season\n",
      "Processed : ['my face has been experienc a lot of breakout dure the chang of season']\n",
      "1.0 0.148411347210817\n",
      "Results :\n",
      "['acne']\n",
      "Query is : there are veri big pimpl emerg sinc the last week and i do not know what to do\n",
      "Processed : ['there are veri big pimpl emerg sinc the last week and i do not know what to do']\n",
      "1.0 0.18842177953225175\n",
      "Results :\n",
      "['acne']\n",
      "Query is : i do not whi i am feel down and deject sinc my partner has gone for her trip\n",
      "Processed : ['i do not whi i am feel down and deject sinc my partner has gone for her trip']\n",
      "1.0 0.1562746298544939\n",
      "Results :\n",
      "['emotional pain']\n",
      "Query is : there is a feel of empti creep up to me sinc the loss of my mother\n",
      "Processed : ['there is a feel of empti creep up to me sinc the loss of my mother']\n",
      "1.0000000000000002 0.08281198139505293\n",
      "Results :\n",
      "['emotional pain']\n",
      "Query is : this weird pain under my chest has been grow for the past two day and i think it was time to contact you\n",
      "Processed : ['this weird pain under my chest has been grow for the past two day and i think it was time to contact you']\n",
      "1.0 0.14868632570555473\n",
      "Results :\n",
      "['internal pain']\n",
      "Query is : it is veri hard to concentr sinc the last week event and i feel tire all the time\n",
      "Processed : ['it is veri hard to concentr sinc the last week event and i feel tire all the time']\n",
      "1.0 0.17006443102903848\n",
      "Results :\n",
      "['emotional pain']\n",
      "Query is : walk to work seem difficult now and there have been time when i was not abl get myself out of the bed in the morn\n",
      "Processed : ['walk to work seem difficult now and there have been time when i was not abl get myself out of the bed in the morn']\n",
      "1.0 0.17868038172066625\n",
      "Results :\n",
      "['body feels weak']\n",
      "Query is : my head ach bad when i tri to look at my laptop screen\n",
      "Processed : ['my head ach bad when i tri to look at my laptop screen']\n",
      "1.0000000000000004 0.29275953598477045\n",
      "Results :\n",
      "['head ache']\n"
     ]
    }
   ],
   "source": [
    "for q in data['stemmed_phrase'][500:]:\n",
    "    print(get_prediction(q))"
   ]
  },
  {
   "cell_type": "markdown",
   "metadata": {},
   "source": [
    "## Use random forest"
   ]
  },
  {
   "cell_type": "code",
   "execution_count": 34,
   "metadata": {
    "ExecuteTime": {
     "end_time": "2021-03-08T10:08:37.368174Z",
     "start_time": "2021-03-08T10:08:37.362071Z"
    }
   },
   "outputs": [],
   "source": [
    "model = RandomForestClassifier(n_estimators=100,min_samples_leaf=2,bootstrap=True)"
   ]
  },
  {
   "cell_type": "markdown",
   "metadata": {},
   "source": [
    "## Generate Data first\n",
    "- First make a transformed matrix and associate each of the sentences with a numeric row and each prompt with a numeric dictionary value"
   ]
  },
  {
   "cell_type": "code",
   "execution_count": 53,
   "metadata": {
    "ExecuteTime": {
     "end_time": "2021-03-08T10:12:23.153186Z",
     "start_time": "2021-03-08T10:12:23.134743Z"
    }
   },
   "outputs": [
    {
     "data": {
      "text/html": [
       "<div>\n",
       "<style scoped>\n",
       "    .dataframe tbody tr th:only-of-type {\n",
       "        vertical-align: middle;\n",
       "    }\n",
       "\n",
       "    .dataframe tbody tr th {\n",
       "        vertical-align: top;\n",
       "    }\n",
       "\n",
       "    .dataframe thead th {\n",
       "        text-align: right;\n",
       "    }\n",
       "</style>\n",
       "<table border=\"1\" class=\"dataframe\">\n",
       "  <thead>\n",
       "    <tr style=\"text-align: right;\">\n",
       "      <th></th>\n",
       "      <th>Phrase</th>\n",
       "      <th>Prompt</th>\n",
       "      <th>stemmed_phrase</th>\n",
       "    </tr>\n",
       "  </thead>\n",
       "  <tbody>\n",
       "    <tr>\n",
       "      <td>0</td>\n",
       "      <td>when i remember her i feel down</td>\n",
       "      <td>emotional pain</td>\n",
       "      <td>when i rememb her i feel down</td>\n",
       "    </tr>\n",
       "    <tr>\n",
       "      <td>1</td>\n",
       "      <td>there is too much pain when i move my arm</td>\n",
       "      <td>heart hurts</td>\n",
       "      <td>there is too much pain when i move my arm</td>\n",
       "    </tr>\n",
       "    <tr>\n",
       "      <td>2</td>\n",
       "      <td>my son had his lip pierced and it is swollen a...</td>\n",
       "      <td>infected wound</td>\n",
       "      <td>my son had his lip pierc and it is swollen and...</td>\n",
       "    </tr>\n",
       "  </tbody>\n",
       "</table>\n",
       "</div>"
      ],
      "text/plain": [
       "                                              Phrase          Prompt  \\\n",
       "0                    when i remember her i feel down  emotional pain   \n",
       "1          there is too much pain when i move my arm     heart hurts   \n",
       "2  my son had his lip pierced and it is swollen a...  infected wound   \n",
       "\n",
       "                                      stemmed_phrase  \n",
       "0                      when i rememb her i feel down  \n",
       "1          there is too much pain when i move my arm  \n",
       "2  my son had his lip pierc and it is swollen and...  "
      ]
     },
     "execution_count": 53,
     "metadata": {},
     "output_type": "execute_result"
    }
   ],
   "source": [
    "data[:3]"
   ]
  },
  {
   "cell_type": "code",
   "execution_count": 13,
   "metadata": {
    "ExecuteTime": {
     "end_time": "2021-03-09T09:26:04.980652Z",
     "start_time": "2021-03-09T09:26:04.875557Z"
    }
   },
   "outputs": [],
   "source": [
    "TfIdf = TfidfVectorizer(stop_words = 'english', ngram_range= (1,3),max_df= 0.7)\n",
    "X = TfIdf.fit_transform(data['stemmed_phrase']).toarray()"
   ]
  },
  {
   "cell_type": "markdown",
   "metadata": {},
   "source": [
    "## Generate the Y \n",
    "- Generate the class data "
   ]
  },
  {
   "cell_type": "code",
   "execution_count": 14,
   "metadata": {
    "ExecuteTime": {
     "end_time": "2021-03-09T09:26:07.396547Z",
     "start_time": "2021-03-09T09:26:07.388568Z"
    }
   },
   "outputs": [
    {
     "data": {
      "text/plain": [
       "{0: 'emotional pain',\n",
       " 1: 'heart hurts',\n",
       " 2: 'infected wound',\n",
       " 3: 'foot ache',\n",
       " 4: 'shoulder pain',\n",
       " 5: 'injury from sports',\n",
       " 6: 'skin issue',\n",
       " 7: 'stomach ache',\n",
       " 8: 'knee pain',\n",
       " 9: 'joint pain',\n",
       " 10: 'hard to breath',\n",
       " 11: 'head ache',\n",
       " 12: 'body feels weak',\n",
       " 13: 'feeling dizzy',\n",
       " 14: 'back pain',\n",
       " 15: 'open wound',\n",
       " 16: 'internal pain',\n",
       " 17: 'blurry vision',\n",
       " 18: 'acne',\n",
       " 19: 'muscle pain',\n",
       " 20: 'hair falling out',\n",
       " 21: 'neck pain',\n",
       " 22: 'cough',\n",
       " 23: 'ear ache',\n",
       " 24: 'feeling cold',\n",
       " 25: 'sunburn',\n",
       " 26: 'fever',\n",
       " 27: 'cold and cough'}"
      ]
     },
     "execution_count": 14,
     "metadata": {},
     "output_type": "execute_result"
    }
   ],
   "source": [
    "ailment_dict"
   ]
  },
  {
   "cell_type": "code",
   "execution_count": 15,
   "metadata": {
    "ExecuteTime": {
     "end_time": "2021-03-09T09:26:10.897665Z",
     "start_time": "2021-03-09T09:26:10.888568Z"
    }
   },
   "outputs": [
    {
     "name": "stdout",
     "output_type": "stream",
     "text": [
      "{'emotional pain': 0, 'heart hurts': 1, 'infected wound': 2, 'foot ache': 3, 'shoulder pain': 4, 'injury from sports': 5, 'skin issue': 6, 'stomach ache': 7, 'knee pain': 8, 'joint pain': 9, 'hard to breath': 10, 'head ache': 11, 'body feels weak': 12, 'feeling dizzy': 13, 'back pain': 14, 'open wound': 15, 'internal pain': 16, 'blurry vision': 17, 'acne': 18, 'muscle pain': 19, 'hair falling out': 20, 'neck pain': 21, 'cough': 22, 'ear ache': 23, 'feeling cold': 24, 'sunburn': 25, 'fever': 26, 'cold and cough': 27}\n"
     ]
    }
   ],
   "source": [
    "# ailment_dict\n",
    "ailment = {}\n",
    "for i,j in ailment_dict.items():\n",
    "    ailment[j] = i\n",
    "print(ailment)\n",
    "Y = data['Prompt'].map(ailment)"
   ]
  },
  {
   "cell_type": "code",
   "execution_count": 16,
   "metadata": {
    "ExecuteTime": {
     "end_time": "2021-03-09T09:26:13.841579Z",
     "start_time": "2021-03-09T09:26:13.831578Z"
    }
   },
   "outputs": [
    {
     "data": {
      "text/plain": [
       "0       0\n",
       "1       1\n",
       "2       2\n",
       "3       2\n",
       "4       3\n",
       "       ..\n",
       "735     0\n",
       "736    16\n",
       "737     0\n",
       "738    12\n",
       "739    11\n",
       "Name: Prompt, Length: 740, dtype: int64"
      ]
     },
     "execution_count": 16,
     "metadata": {},
     "output_type": "execute_result"
    }
   ],
   "source": [
    "Y"
   ]
  },
  {
   "cell_type": "markdown",
   "metadata": {},
   "source": [
    "## Got X and Y \n",
    "- Split in training and validation sets"
   ]
  },
  {
   "cell_type": "code",
   "execution_count": 17,
   "metadata": {
    "ExecuteTime": {
     "end_time": "2021-03-09T09:28:26.781366Z",
     "start_time": "2021-03-09T09:28:26.576508Z"
    }
   },
   "outputs": [],
   "source": [
    "X_train, X_test, Y_train, Y_test = train_test_split(X, Y, train_size = 0.8, random_state = 43, shuffle = True)"
   ]
  },
  {
   "cell_type": "code",
   "execution_count": 88,
   "metadata": {
    "ExecuteTime": {
     "end_time": "2021-03-08T07:12:59.663645Z",
     "start_time": "2021-03-08T07:12:58.556036Z"
    }
   },
   "outputs": [
    {
     "data": {
      "text/plain": [
       "RandomForestClassifier(min_samples_leaf=2)"
      ]
     },
     "execution_count": 88,
     "metadata": {},
     "output_type": "execute_result"
    }
   ],
   "source": [
    "model.fit(X_train,Y_train)"
   ]
  },
  {
   "cell_type": "code",
   "execution_count": 58,
   "metadata": {
    "ExecuteTime": {
     "end_time": "2021-03-08T10:12:37.508749Z",
     "start_time": "2021-03-08T10:12:37.487809Z"
    }
   },
   "outputs": [],
   "source": [
    "y_preds = model.predict(X_test)"
   ]
  },
  {
   "cell_type": "code",
   "execution_count": 59,
   "metadata": {
    "ExecuteTime": {
     "end_time": "2021-03-08T10:12:37.909694Z",
     "start_time": "2021-03-08T10:12:37.897746Z"
    }
   },
   "outputs": [],
   "source": [
    "correct,incorrect =0,0\n",
    "for k,i in zip(y_preds,Y_test):\n",
    "    if(k==i):\n",
    "        correct+=1\n",
    "    else:\n",
    "        incorrect+=1"
   ]
  },
  {
   "cell_type": "code",
   "execution_count": 60,
   "metadata": {
    "ExecuteTime": {
     "end_time": "2021-03-08T10:12:38.351405Z",
     "start_time": "2021-03-08T10:12:38.337201Z"
    }
   },
   "outputs": [
    {
     "data": {
      "text/plain": [
       "104"
      ]
     },
     "execution_count": 60,
     "metadata": {},
     "output_type": "execute_result"
    }
   ],
   "source": [
    "correct"
   ]
  },
  {
   "cell_type": "code",
   "execution_count": 61,
   "metadata": {
    "ExecuteTime": {
     "end_time": "2021-03-08T10:12:38.968011Z",
     "start_time": "2021-03-08T10:12:38.952175Z"
    }
   },
   "outputs": [
    {
     "data": {
      "text/plain": [
       "44"
      ]
     },
     "execution_count": 61,
     "metadata": {},
     "output_type": "execute_result"
    }
   ],
   "source": [
    "incorrect"
   ]
  },
  {
   "cell_type": "code",
   "execution_count": 75,
   "metadata": {
    "ExecuteTime": {
     "end_time": "2021-03-08T10:36:57.755223Z",
     "start_time": "2021-03-08T10:36:42.591865Z"
    }
   },
   "outputs": [
    {
     "data": {
      "text/plain": [
       "[<matplotlib.lines.Line2D at 0x15025e5e0c8>]"
      ]
     },
     "execution_count": 75,
     "metadata": {},
     "output_type": "execute_result"
    },
    {
     "data": {
      "image/png": "[encoded data removed]",
      "text/plain": [
       "<Figure size 1080x504 with 1 Axes>"
      ]
     },
     "metadata": {
      "needs_background": "light"
     },
     "output_type": "display_data"
    }
   ],
   "source": [
    "score =[]\n",
    "for est in range(10,50):\n",
    "    model = RandomForestClassifier(n_estimators=est,min_samples_leaf=2)\n",
    "    model.fit(X_train,Y_train)  \n",
    "    s = model.score(X_test,Y_test)\n",
    "    score.append(s)\n",
    "plt.figure(figsize= (15,7))\n",
    "plt.title(\"Accuracy of classification\",fontsize=17)\n",
    "plt.xlabel(\"Number of estimators\",fontsize = 14)\n",
    "plt.ylabel(\"Percentage\",fontsize = 14)\n",
    "plt.plot([i for i in range(10,50)],score,color= 'red')"
   ]
  },
  {
   "cell_type": "markdown",
   "metadata": {},
   "source": [
    "## Now\n",
    "- Whenever you get a query, you need to transform it according to your vocabulary and then predict the class and then return the predicted class from model "
   ]
  },
  {
   "cell_type": "code",
   "execution_count": 42,
   "metadata": {
    "ExecuteTime": {
     "end_time": "2021-03-08T10:09:32.718474Z",
     "start_time": "2021-03-08T10:09:32.696716Z"
    }
   },
   "outputs": [],
   "source": [
    "def process_query(query):\n",
    "    # Change to lower\n",
    "    query = query.lower()\n",
    "    # Removed abbreviations\n",
    "    res = ''\n",
    "#     print(query.split())\n",
    "    for k in query.split():\n",
    "        if k in abbr_dict:\n",
    "            print(abbr_dict[k])\n",
    "            res+=' ' + abbr_dict[k]\n",
    "        else:\n",
    "            res+=' ' + k \n",
    "    \n",
    "    stemmer = SnowballStemmer('english')\n",
    "    res = ' '.join([stemmer.stem(y) for y in res.split()])\n",
    "    return res "
   ]
  },
  {
   "cell_type": "code",
   "execution_count": 44,
   "metadata": {
    "ExecuteTime": {
     "end_time": "2021-03-08T10:09:47.490026Z",
     "start_time": "2021-03-08T10:09:46.001786Z"
    }
   },
   "outputs": [
    {
     "name": "stdout",
     "output_type": "stream",
     "text": [
      "Query : you will not believ me but this infect wound on my hand is from a paper cut i did not take serious\n",
      "Original : infected wound\n",
      "infected wound,open wound,skin issue,\n",
      "Query : these red spot on my cheek are new what is it\n",
      "Original : skin issue\n",
      "skin issue,infected wound,acne,\n",
      "Query : i have a skin rash after eat an ice-cream\n",
      "Original : skin issue\n",
      "skin issue,open wound,muscle pain,\n",
      "Query : i have a sharp pain in my abdomen\n",
      "Original : internal pain\n",
      "internal pain,muscle pain,back pain,\n",
      "Query : i feel a strang and power pain insid my rib cage\n",
      "Original : heart hurts\n",
      "internal pain,heart hurts,back pain,\n",
      "Query : use hair tonic\n",
      "Original : hair falling out\n",
      "hair falling out,acne,blurry vision,\n",
      "Query : this long scar on my left buttock is from fall off my mountain bike\n",
      "Original : injury from sports\n",
      "hair falling out,internal pain,heart hurts,\n",
      "Query : i feel like i just can not cope anymor i feel overwhelm and like i just can not get a break\n",
      "Original : emotional pain\n",
      "emotional pain,feeling dizzy,body feels weak,\n",
      "Query : i feel chilli like an ice cube my sister said that she need sever blanket to cover her so that she is warm enough\n",
      "Original : feeling cold\n",
      "feeling cold,emotional pain,open wound,\n",
      "Query : i carri a heavi bag yesterday and when i get up today i felt a great shoulder pain\n",
      "Original : shoulder pain\n",
      "shoulder pain,back pain,injury from sports,\n",
      "Query : i have a blurri vision and i can not see in the dark what is the reason doctor\n",
      "Original : blurry vision\n",
      "blurry vision,head ache,acne,\n",
      "Query : when i am tire i feel my head heavi\n",
      "Original : head ache\n",
      "head ache,feeling dizzy,emotional pain,\n",
      "Query : i have difficulti move my neck\n",
      "Original : neck pain\n",
      "neck pain,shoulder pain,internal pain,\n",
      "Query : my back hurt so much i can not bend down to tie my shoelac\n",
      "Original : back pain\n",
      "back pain,head ache,joint pain,\n",
      "Query : i have a ear ach when i go to the pool\n",
      "Original : ear ache\n",
      "ear ache,internal pain,head ache,\n",
      "Query : my heart hurt when i exercis\n",
      "Original : heart hurts\n",
      "heart hurts,back pain,neck pain,\n",
      "Query : my neck hurt me and i can not stand with this pain\n",
      "Original : neck pain\n",
      "neck pain,back pain,shoulder pain,\n",
      "Query : i have disterb in my emot\n",
      "Original : emotional pain\n",
      "emotional pain,blurry vision,back pain,\n",
      "Query : anytim i play tenni i feel a shoulder pain\n",
      "Original : shoulder pain\n",
      "shoulder pain,injury from sports,muscle pain,\n",
      "Query : i feel weak\n",
      "Original : body feels weak\n",
      "body feels weak,emotional pain,stomach ache,\n",
      "Query : when i sneez veri hard i feel ear ach\n",
      "Original : ear ache\n",
      "ear ache,hard to breath,internal pain,\n",
      "Query : i feel like my heart is on fire\n",
      "Original : heart hurts\n",
      "heart hurts,feeling dizzy,emotional pain,\n",
      "Query : when i lift my arm up i have a sore in my shoulder\n",
      "Original : shoulder pain\n",
      "shoulder pain,muscle pain,joint pain,\n",
      "Query : i feel a click sensat in my knee each time i step\n",
      "Original : joint pain\n",
      "knee pain,joint pain,injury from sports,\n",
      "Query : surgic wound infect\n",
      "Original : infected wound\n",
      "infected wound,open wound,skin issue,\n",
      "Query : red swell and difficulti walk\n",
      "Original : knee pain\n",
      "skin issue,knee pain,foot ache,\n",
      "Query : i have a migrain and i took panadol but it doe not help\n",
      "Original : head ache\n",
      "head ache,muscle pain,blurry vision,\n",
      "Query : due to the recent event i have been feel quit deject and sad\n",
      "Original : emotional pain\n",
      "emotional pain,feeling dizzy,body feels weak,\n",
      "Query : i feel restless and confus at time\n",
      "Original : emotional pain\n",
      "emotional pain,feeling dizzy,body feels weak,\n",
      "Query : i can not see far off thing clear\n",
      "Original : blurry vision\n",
      "blurry vision,back pain,body feels weak,\n",
      "Query : stay out for long durat dure the day give me a rash\n",
      "Original : sunburn\n",
      "skin issue,sunburn,injury from sports,\n",
      "Query : i feel tire and overwork\n",
      "Original : feeling dizzy\n",
      "body feels weak,emotional pain,feeling dizzy,\n",
      "Query : i get chill and sweat a lot\n",
      "Original : fever\n",
      "fever,back pain,cough,\n",
      "Query : i feel like no one like me and ignor me\n",
      "Original : emotional pain\n",
      "emotional pain,feeling dizzy,joint pain,\n",
      "Query : stare at the laptop screen make my head ach\n",
      "Original : head ache\n",
      "head ache,feeling dizzy,internal pain,\n",
      "Query : i have sore throat can not tast anyth\n",
      "Original : cold and cough\n",
      "cough,cold and cough,neck pain,\n",
      "Query : i feel uneasi and thump in my chest\n",
      "Original : internal pain\n",
      "emotional pain,hard to breath,internal pain,\n",
      "Query : i feel tire after long walk\n",
      "Original : hard to breath\n",
      "body feels weak,emotional pain,knee pain,\n",
      "Query : my head is heavi and i feel pain behind my eye\n",
      "Original : head ache\n",
      "head ache,blurry vision,internal pain,\n",
      "Query : my nose is run and i have been feel tire from the least amount of work\n",
      "Original : feeling cold\n",
      "body feels weak,emotional pain,feeling dizzy,\n",
      "Query : there has been a weird ach in the leg sinc the last two week and i can not run or play\n",
      "Original : foot ache\n",
      "foot ache,injury from sports,back pain,\n",
      "Query : i can not stop think about him whenev i see anyth associ to him\n",
      "Original : emotional pain\n",
      "emotional pain,injury from sports,back pain,\n",
      "Query : my armpit has a red colour rash grow sinc the past 1 week\n",
      "Original : skin issue\n",
      "skin issue,stomach ache,foot ache,\n",
      "Query : sinc i ate a bad hot dog my stomach has been behav weird and i can not sit upright for veri long\n",
      "Original : stomach ache\n",
      "stomach ache,internal pain,back pain,\n",
      "Query : yesterday an insect bit me on the left leg and it was not veri major but wake up today i see a yellow secret come out of the wound\n",
      "Original : infected wound\n",
      "infected wound,open wound,skin issue,\n",
      "Query : dure footbal i twist my ankl and was abl to walk back home yesterday but today i can not even walk proper and it hurt a lot\n",
      "Original : injury from sports\n",
      "foot ache,knee pain,injury from sports,\n",
      "Query : there is a wheez sound when i breath and i am experienc a lot of mucus\n",
      "Original : cough\n",
      "hard to breath,cough,fever,\n",
      "Query : there is a strike pain in my knee whenev i tri to move my left leg\n",
      "Original : knee pain\n",
      "knee pain,joint pain,injury from sports,\n",
      "Query : sinc the last week i have been feel tire even after simpl walk or move up the stair in my offic\n",
      "Original : body feels weak\n",
      "body feels weak,emotional pain,knee pain,\n",
      "Query : i do not know what happen but i can not bend down to pick up anyth as it hurt a lot when i do\n",
      "Original : back pain\n",
      "back pain,foot ache,cough,\n",
      "Query : my neck has been stiff sinc i twist it accident two day ago\n",
      "Original : neck pain\n",
      "neck pain,shoulder pain,stomach ache,\n",
      "Query : sinc the past 3 day i can not see proper even in bright light dure the night the vision almost complet goe off\n",
      "Original : blurry vision\n",
      "blurry vision,head ache,injury from sports,\n",
      "Query : my face has been experienc a lot of breakout dure the chang of season\n",
      "Original : acne\n",
      "acne,injury from sports,cough,\n",
      "Query : there are veri big pimpl emerg sinc the last week and i do not know what to do\n",
      "Original : acne\n",
      "acne,foot ache,stomach ache,\n",
      "Query : i do not whi i am feel down and deject sinc my partner has gone for her trip\n",
      "Original : emotional pain\n",
      "emotional pain,body feels weak,feeling dizzy,\n",
      "Query : there is a feel of empti creep up to me sinc the loss of my mother\n",
      "Original : emotional pain\n",
      "emotional pain,feeling dizzy,body feels weak,\n",
      "Query : this weird pain under my chest has been grow for the past two day and i think it was time to contact you\n",
      "Original : internal pain\n",
      "internal pain,heart hurts,back pain,\n",
      "Query : it is veri hard to concentr sinc the last week event and i feel tire all the time\n",
      "Original : emotional pain\n",
      "body feels weak,emotional pain,feeling dizzy,\n",
      "Query : walk to work seem difficult now and there have been time when i was not abl get myself out of the bed in the morn\n",
      "Original : body feels weak\n",
      "body feels weak,foot ache,knee pain,\n",
      "Query : my head ach bad when i tri to look at my laptop screen\n",
      "Original : head ache\n",
      "head ache,feeling dizzy,neck pain,\n"
     ]
    }
   ],
   "source": [
    "# suppose I have the best model \n",
    "model = RandomForestClassifier(n_estimators=33,min_samples_leaf=2,bootstrap=True,max_features=300)\n",
    "model.fit(X_train,Y_train)\n",
    "for i,j in zip(X_test,Y_test):\n",
    "    query = data.iloc['Phrase'][i]\n",
    "    print(\"Query :\",query)\n",
    "    print(\"Original :\",ailment_dict[j])\n",
    "    query = process_query(query)\n",
    "    query = [query]\n",
    "    #now transform the document according to the vectorizer \n",
    "    query = TfIdf.transform(query)\n",
    "    # now predict it \n",
    "    pred = model.predict_proba(query)\n",
    "    res = list(np.argsort(pred))[0]\n",
    "    res = res[::-1][:3]\n",
    "    for k in res:\n",
    "        print(ailment_dict[k],end=',')\n",
    "    print()"
   ]
  },
  {
   "cell_type": "markdown",
   "metadata": {},
   "source": [
    "## KNN"
   ]
  },
  {
   "cell_type": "code",
   "execution_count": 25,
   "metadata": {
    "ExecuteTime": {
     "end_time": "2021-03-09T09:39:18.614070Z",
     "start_time": "2021-03-09T09:38:05.275386Z"
    }
   },
   "outputs": [
    {
     "data": {
      "text/plain": [
       "[<matplotlib.lines.Line2D at 0x22e80317448>]"
      ]
     },
     "execution_count": 25,
     "metadata": {},
     "output_type": "execute_result"
    },
    {
     "data": {
      "image/png": "[encoded data removed]",
      "text/plain": [
       "<Figure size 1080x504 with 1 Axes>"
      ]
     },
     "metadata": {
      "needs_background": "light"
     },
     "output_type": "display_data"
    }
   ],
   "source": [
    "score =[]\n",
    "for est in range(3,40):\n",
    "    model = KNeighborsClassifier(n_neighbors=est,metric='minkowski')\n",
    "    model.fit(X_train,Y_train)  \n",
    "    s = model.score(X_test,Y_test)\n",
    "    score.append(s)\n",
    "plt.figure(figsize= (15,7))\n",
    "plt.title(\"Accuracy of classification\",fontsize=17)\n",
    "plt.xlabel(\"Number of estimators\",fontsize = 14)\n",
    "plt.ylabel(\"Percentage\",fontsize = 14)\n",
    "plt.plot([i for i in range(3,40)],score,color= 'red')"
   ]
  },
  {
   "cell_type": "code",
   "execution_count": 34,
   "metadata": {
    "ExecuteTime": {
     "end_time": "2021-03-09T17:54:37.001606Z",
     "start_time": "2021-03-09T17:54:36.990807Z"
    }
   },
   "outputs": [],
   "source": [
    "p = pd.DataFrame([[1,2],[2,3]],columns=['a','b'])"
   ]
  },
  {
   "cell_type": "code",
   "execution_count": 19,
   "metadata": {
    "ExecuteTime": {
     "end_time": "2021-03-09T17:50:34.574280Z",
     "start_time": "2021-03-09T17:50:34.559906Z"
    }
   },
   "outputs": [
    {
     "data": {
      "text/html": [
       "<div>\n",
       "<style scoped>\n",
       "    .dataframe tbody tr th:only-of-type {\n",
       "        vertical-align: middle;\n",
       "    }\n",
       "\n",
       "    .dataframe tbody tr th {\n",
       "        vertical-align: top;\n",
       "    }\n",
       "\n",
       "    .dataframe thead th {\n",
       "        text-align: right;\n",
       "    }\n",
       "</style>\n",
       "<table border=\"1\" class=\"dataframe\">\n",
       "  <thead>\n",
       "    <tr style=\"text-align: right;\">\n",
       "      <th></th>\n",
       "      <th>a</th>\n",
       "      <th>b</th>\n",
       "    </tr>\n",
       "  </thead>\n",
       "  <tbody>\n",
       "    <tr>\n",
       "      <td>0</td>\n",
       "      <td>1</td>\n",
       "      <td>2</td>\n",
       "    </tr>\n",
       "    <tr>\n",
       "      <td>1</td>\n",
       "      <td>2</td>\n",
       "      <td>3</td>\n",
       "    </tr>\n",
       "  </tbody>\n",
       "</table>\n",
       "</div>"
      ],
      "text/plain": [
       "   a  b\n",
       "0  1  2\n",
       "1  2  3"
      ]
     },
     "execution_count": 19,
     "metadata": {},
     "output_type": "execute_result"
    }
   ],
   "source": [
    "p"
   ]
  },
  {
   "cell_type": "code",
   "execution_count": 35,
   "metadata": {
    "ExecuteTime": {
     "end_time": "2021-03-09T17:54:38.816728Z",
     "start_time": "2021-03-09T17:54:38.796972Z"
    }
   },
   "outputs": [],
   "source": [
    "p = p.append([{'a':1,'b':23}],ignore_index=True)"
   ]
  },
  {
   "cell_type": "code",
   "execution_count": 36,
   "metadata": {
    "ExecuteTime": {
     "end_time": "2021-03-09T17:54:40.665206Z",
     "start_time": "2021-03-09T17:54:40.651363Z"
    }
   },
   "outputs": [
    {
     "data": {
      "text/html": [
       "<div>\n",
       "<style scoped>\n",
       "    .dataframe tbody tr th:only-of-type {\n",
       "        vertical-align: middle;\n",
       "    }\n",
       "\n",
       "    .dataframe tbody tr th {\n",
       "        vertical-align: top;\n",
       "    }\n",
       "\n",
       "    .dataframe thead th {\n",
       "        text-align: right;\n",
       "    }\n",
       "</style>\n",
       "<table border=\"1\" class=\"dataframe\">\n",
       "  <thead>\n",
       "    <tr style=\"text-align: right;\">\n",
       "      <th></th>\n",
       "      <th>a</th>\n",
       "      <th>b</th>\n",
       "    </tr>\n",
       "  </thead>\n",
       "  <tbody>\n",
       "    <tr>\n",
       "      <td>0</td>\n",
       "      <td>1</td>\n",
       "      <td>2</td>\n",
       "    </tr>\n",
       "    <tr>\n",
       "      <td>1</td>\n",
       "      <td>2</td>\n",
       "      <td>3</td>\n",
       "    </tr>\n",
       "    <tr>\n",
       "      <td>2</td>\n",
       "      <td>1</td>\n",
       "      <td>23</td>\n",
       "    </tr>\n",
       "    <tr>\n",
       "      <td>3</td>\n",
       "      <td>1</td>\n",
       "      <td>2223</td>\n",
       "    </tr>\n",
       "  </tbody>\n",
       "</table>\n",
       "</div>"
      ],
      "text/plain": [
       "   a     b\n",
       "0  1     2\n",
       "1  2     3\n",
       "2  1    23\n",
       "3  1  2223"
      ]
     },
     "execution_count": 36,
     "metadata": {},
     "output_type": "execute_result"
    }
   ],
   "source": [
    "p.append([{'a':1,'b':2223}],ignore_index=True)"
   ]
  },
  {
   "cell_type": "code",
   "execution_count": null,
   "metadata": {},
   "outputs": [],
   "source": []
  }
 ],
 "metadata": {
  "kernelspec": {
   "display_name": "Python 3",
   "language": "python",
   "name": "python3"
  },
  "language_info": {
   "codemirror_mode": {
    "name": "ipython",
    "version": 3
   },
   "file_extension": ".py",
   "mimetype": "text/x-python",
   "name": "python",
   "nbconvert_exporter": "python",
   "pygments_lexer": "ipython3",
   "version": "3.7.4"
  },
  "varInspector": {
   "cols": {
    "lenName": 16,
    "lenType": 16,
    "lenVar": 40
   },
   "kernels_config": {
    "python": {
     "delete_cmd_postfix": "",
     "delete_cmd_prefix": "del ",
     "library": "var_list.py",
     "varRefreshCmd": "print(var_dic_list())"
    },
    "r": {
     "delete_cmd_postfix": ") ",
     "delete_cmd_prefix": "rm(",
     "library": "var_list.r",
     "varRefreshCmd": "cat(var_dic_list()) "
    }
   },
   "types_to_exclude": [
    "module",
    "function",
    "builtin_function_or_method",
    "instance",
    "_Feature"
   ],
   "window_display": false
  }
 },
 "nbformat": 4,
 "nbformat_minor": 2
}
